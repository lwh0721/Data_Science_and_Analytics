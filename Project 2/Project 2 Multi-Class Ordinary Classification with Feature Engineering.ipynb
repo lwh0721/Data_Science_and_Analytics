{
 "cells": [
  {
   "cell_type": "code",
   "execution_count": 1,
   "metadata": {},
   "outputs": [],
   "source": [
    "import pandas as pd\n",
    "import numpy as np\n",
    "import matplotlib.pyplot as plt\n",
    "import seaborn as sns\n",
    "from sklearn.model_selection import train_test_split\n",
    "import category_encoders as ce\n",
    "from sklearn.preprocessing import StandardScaler\n",
    "from sklearn import linear_model\n",
    "from sklearn.model_selection import GridSearchCV, KFold\n",
    "from sklearn.metrics import make_scorer, r2_score\n",
    "from sklearn.linear_model import LogisticRegression\n",
    "from sklearn.model_selection import KFold\n",
    "from sklearn.metrics import make_scorer, confusion_matrix, f1_score, mean_squared_error"
   ]
  },
  {
   "cell_type": "code",
   "execution_count": 2,
   "metadata": {},
   "outputs": [
    {
     "name": "stderr",
     "output_type": "stream",
     "text": [
      "/opt/anaconda3/lib/python3.8/site-packages/IPython/core/interactiveshell.py:3146: DtypeWarning: Columns (0) have mixed types.Specify dtype option on import or set low_memory=False.\n",
      "  has_raised = await self.run_ast_nodes(code_ast.body, cell_name,\n"
     ]
    }
   ],
   "source": [
    "df = pd.read_csv('clean_kaggle_data_2022.csv')"
   ]
  },
  {
   "cell_type": "code",
   "execution_count": 3,
   "metadata": {},
   "outputs": [
    {
     "data": {
      "text/html": [
       "<div>\n",
       "<style scoped>\n",
       "    .dataframe tbody tr th:only-of-type {\n",
       "        vertical-align: middle;\n",
       "    }\n",
       "\n",
       "    .dataframe tbody tr th {\n",
       "        vertical-align: top;\n",
       "    }\n",
       "\n",
       "    .dataframe thead th {\n",
       "        text-align: right;\n",
       "    }\n",
       "</style>\n",
       "<table border=\"1\" class=\"dataframe\">\n",
       "  <thead>\n",
       "    <tr style=\"text-align: right;\">\n",
       "      <th></th>\n",
       "      <th>Duration (in seconds)</th>\n",
       "      <th>Q2</th>\n",
       "      <th>Q3</th>\n",
       "      <th>Q4</th>\n",
       "      <th>Q5</th>\n",
       "      <th>Q6_1</th>\n",
       "      <th>Q6_2</th>\n",
       "      <th>Q6_3</th>\n",
       "      <th>Q6_4</th>\n",
       "      <th>Q6_5</th>\n",
       "      <th>...</th>\n",
       "      <th>Q44_5</th>\n",
       "      <th>Q44_6</th>\n",
       "      <th>Q44_7</th>\n",
       "      <th>Q44_8</th>\n",
       "      <th>Q44_9</th>\n",
       "      <th>Q44_10</th>\n",
       "      <th>Q44_11</th>\n",
       "      <th>Q44_12</th>\n",
       "      <th>Q29_Encoded</th>\n",
       "      <th>Q29_buckets</th>\n",
       "    </tr>\n",
       "  </thead>\n",
       "  <tbody>\n",
       "    <tr>\n",
       "      <th>0</th>\n",
       "      <td>Duration (in seconds)</td>\n",
       "      <td>What is your age (# years)?</td>\n",
       "      <td>What is your gender? - Selected Choice</td>\n",
       "      <td>In which country do you currently reside?</td>\n",
       "      <td>Are you currently a student? (high school, uni...</td>\n",
       "      <td>On which platforms have you begun or completed...</td>\n",
       "      <td>On which platforms have you begun or completed...</td>\n",
       "      <td>On which platforms have you begun or completed...</td>\n",
       "      <td>On which platforms have you begun or completed...</td>\n",
       "      <td>On which platforms have you begun or completed...</td>\n",
       "      <td>...</td>\n",
       "      <td>Who/what are your favorite media sources that ...</td>\n",
       "      <td>Who/what are your favorite media sources that ...</td>\n",
       "      <td>Who/what are your favorite media sources that ...</td>\n",
       "      <td>Who/what are your favorite media sources that ...</td>\n",
       "      <td>Who/what are your favorite media sources that ...</td>\n",
       "      <td>Who/what are your favorite media sources that ...</td>\n",
       "      <td>Who/what are your favorite media sources that ...</td>\n",
       "      <td>Who/what are your favorite media sources that ...</td>\n",
       "      <td>NaN</td>\n",
       "      <td>NaN</td>\n",
       "    </tr>\n",
       "    <tr>\n",
       "      <th>1</th>\n",
       "      <td>851</td>\n",
       "      <td>55-59</td>\n",
       "      <td>Man</td>\n",
       "      <td>France</td>\n",
       "      <td>No</td>\n",
       "      <td>Coursera</td>\n",
       "      <td>NaN</td>\n",
       "      <td>Kaggle Learn Courses</td>\n",
       "      <td>NaN</td>\n",
       "      <td>NaN</td>\n",
       "      <td>...</td>\n",
       "      <td>Course Forums (forums.fast.ai, Coursera forums...</td>\n",
       "      <td>NaN</td>\n",
       "      <td>NaN</td>\n",
       "      <td>Blogs (Towards Data Science, Analytics Vidhya,...</td>\n",
       "      <td>NaN</td>\n",
       "      <td>NaN</td>\n",
       "      <td>NaN</td>\n",
       "      <td>NaN</td>\n",
       "      <td>2.0</td>\n",
       "      <td>20,000-29,999</td>\n",
       "    </tr>\n",
       "    <tr>\n",
       "      <th>2</th>\n",
       "      <td>501</td>\n",
       "      <td>30-34</td>\n",
       "      <td>Man</td>\n",
       "      <td>Germany</td>\n",
       "      <td>No</td>\n",
       "      <td>Coursera</td>\n",
       "      <td>edX</td>\n",
       "      <td>NaN</td>\n",
       "      <td>NaN</td>\n",
       "      <td>NaN</td>\n",
       "      <td>...</td>\n",
       "      <td>NaN</td>\n",
       "      <td>YouTube (Kaggle YouTube, Cloud AI Adventures, ...</td>\n",
       "      <td>NaN</td>\n",
       "      <td>Blogs (Towards Data Science, Analytics Vidhya,...</td>\n",
       "      <td>NaN</td>\n",
       "      <td>NaN</td>\n",
       "      <td>NaN</td>\n",
       "      <td>NaN</td>\n",
       "      <td>10.0</td>\n",
       "      <td>100,000-124,999</td>\n",
       "    </tr>\n",
       "    <tr>\n",
       "      <th>3</th>\n",
       "      <td>787</td>\n",
       "      <td>70+</td>\n",
       "      <td>Man</td>\n",
       "      <td>Australia</td>\n",
       "      <td>No</td>\n",
       "      <td>Coursera</td>\n",
       "      <td>NaN</td>\n",
       "      <td>Kaggle Learn Courses</td>\n",
       "      <td>NaN</td>\n",
       "      <td>NaN</td>\n",
       "      <td>...</td>\n",
       "      <td>NaN</td>\n",
       "      <td>NaN</td>\n",
       "      <td>Podcasts (Chai Time Data Science, O’Reilly Dat...</td>\n",
       "      <td>NaN</td>\n",
       "      <td>NaN</td>\n",
       "      <td>NaN</td>\n",
       "      <td>NaN</td>\n",
       "      <td>NaN</td>\n",
       "      <td>10.0</td>\n",
       "      <td>100,000-124,999</td>\n",
       "    </tr>\n",
       "    <tr>\n",
       "      <th>4</th>\n",
       "      <td>1132</td>\n",
       "      <td>40-44</td>\n",
       "      <td>Man</td>\n",
       "      <td>United States of America</td>\n",
       "      <td>No</td>\n",
       "      <td>Coursera</td>\n",
       "      <td>NaN</td>\n",
       "      <td>Kaggle Learn Courses</td>\n",
       "      <td>NaN</td>\n",
       "      <td>Fast.ai</td>\n",
       "      <td>...</td>\n",
       "      <td>NaN</td>\n",
       "      <td>NaN</td>\n",
       "      <td>Podcasts (Chai Time Data Science, O’Reilly Dat...</td>\n",
       "      <td>Blogs (Towards Data Science, Analytics Vidhya,...</td>\n",
       "      <td>NaN</td>\n",
       "      <td>NaN</td>\n",
       "      <td>NaN</td>\n",
       "      <td>NaN</td>\n",
       "      <td>13.0</td>\n",
       "      <td>200,000-299,999</td>\n",
       "    </tr>\n",
       "  </tbody>\n",
       "</table>\n",
       "<p>5 rows × 298 columns</p>\n",
       "</div>"
      ],
      "text/plain": [
       "   Duration (in seconds)                           Q2  \\\n",
       "0  Duration (in seconds)  What is your age (# years)?   \n",
       "1                    851                        55-59   \n",
       "2                    501                        30-34   \n",
       "3                    787                          70+   \n",
       "4                   1132                        40-44   \n",
       "\n",
       "                                       Q3  \\\n",
       "0  What is your gender? - Selected Choice   \n",
       "1                                     Man   \n",
       "2                                     Man   \n",
       "3                                     Man   \n",
       "4                                     Man   \n",
       "\n",
       "                                          Q4  \\\n",
       "0  In which country do you currently reside?   \n",
       "1                                     France   \n",
       "2                                    Germany   \n",
       "3                                  Australia   \n",
       "4                   United States of America   \n",
       "\n",
       "                                                  Q5  \\\n",
       "0  Are you currently a student? (high school, uni...   \n",
       "1                                                 No   \n",
       "2                                                 No   \n",
       "3                                                 No   \n",
       "4                                                 No   \n",
       "\n",
       "                                                Q6_1  \\\n",
       "0  On which platforms have you begun or completed...   \n",
       "1                                           Coursera   \n",
       "2                                           Coursera   \n",
       "3                                           Coursera   \n",
       "4                                           Coursera   \n",
       "\n",
       "                                                Q6_2  \\\n",
       "0  On which platforms have you begun or completed...   \n",
       "1                                                NaN   \n",
       "2                                                edX   \n",
       "3                                                NaN   \n",
       "4                                                NaN   \n",
       "\n",
       "                                                Q6_3  \\\n",
       "0  On which platforms have you begun or completed...   \n",
       "1                               Kaggle Learn Courses   \n",
       "2                                                NaN   \n",
       "3                               Kaggle Learn Courses   \n",
       "4                               Kaggle Learn Courses   \n",
       "\n",
       "                                                Q6_4  \\\n",
       "0  On which platforms have you begun or completed...   \n",
       "1                                                NaN   \n",
       "2                                                NaN   \n",
       "3                                                NaN   \n",
       "4                                                NaN   \n",
       "\n",
       "                                                Q6_5  ...  \\\n",
       "0  On which platforms have you begun or completed...  ...   \n",
       "1                                                NaN  ...   \n",
       "2                                                NaN  ...   \n",
       "3                                                NaN  ...   \n",
       "4                                            Fast.ai  ...   \n",
       "\n",
       "                                               Q44_5  \\\n",
       "0  Who/what are your favorite media sources that ...   \n",
       "1  Course Forums (forums.fast.ai, Coursera forums...   \n",
       "2                                                NaN   \n",
       "3                                                NaN   \n",
       "4                                                NaN   \n",
       "\n",
       "                                               Q44_6  \\\n",
       "0  Who/what are your favorite media sources that ...   \n",
       "1                                                NaN   \n",
       "2  YouTube (Kaggle YouTube, Cloud AI Adventures, ...   \n",
       "3                                                NaN   \n",
       "4                                                NaN   \n",
       "\n",
       "                                               Q44_7  \\\n",
       "0  Who/what are your favorite media sources that ...   \n",
       "1                                                NaN   \n",
       "2                                                NaN   \n",
       "3  Podcasts (Chai Time Data Science, O’Reilly Dat...   \n",
       "4  Podcasts (Chai Time Data Science, O’Reilly Dat...   \n",
       "\n",
       "                                               Q44_8  \\\n",
       "0  Who/what are your favorite media sources that ...   \n",
       "1  Blogs (Towards Data Science, Analytics Vidhya,...   \n",
       "2  Blogs (Towards Data Science, Analytics Vidhya,...   \n",
       "3                                                NaN   \n",
       "4  Blogs (Towards Data Science, Analytics Vidhya,...   \n",
       "\n",
       "                                               Q44_9  \\\n",
       "0  Who/what are your favorite media sources that ...   \n",
       "1                                                NaN   \n",
       "2                                                NaN   \n",
       "3                                                NaN   \n",
       "4                                                NaN   \n",
       "\n",
       "                                              Q44_10  \\\n",
       "0  Who/what are your favorite media sources that ...   \n",
       "1                                                NaN   \n",
       "2                                                NaN   \n",
       "3                                                NaN   \n",
       "4                                                NaN   \n",
       "\n",
       "                                              Q44_11  \\\n",
       "0  Who/what are your favorite media sources that ...   \n",
       "1                                                NaN   \n",
       "2                                                NaN   \n",
       "3                                                NaN   \n",
       "4                                                NaN   \n",
       "\n",
       "                                              Q44_12 Q29_Encoded  \\\n",
       "0  Who/what are your favorite media sources that ...         NaN   \n",
       "1                                                NaN         2.0   \n",
       "2                                                NaN        10.0   \n",
       "3                                                NaN        10.0   \n",
       "4                                                NaN        13.0   \n",
       "\n",
       "       Q29_buckets  \n",
       "0              NaN  \n",
       "1    20,000-29,999  \n",
       "2  100,000-124,999  \n",
       "3  100,000-124,999  \n",
       "4  200,000-299,999  \n",
       "\n",
       "[5 rows x 298 columns]"
      ]
     },
     "execution_count": 3,
     "metadata": {},
     "output_type": "execute_result"
    }
   ],
   "source": [
    "df.head()"
   ]
  },
  {
   "cell_type": "code",
   "execution_count": 4,
   "metadata": {},
   "outputs": [
    {
     "data": {
      "text/plain": [
       "(8137, 298)"
      ]
     },
     "execution_count": 4,
     "metadata": {},
     "output_type": "execute_result"
    }
   ],
   "source": [
    "df.shape"
   ]
  },
  {
   "cell_type": "markdown",
   "metadata": {},
   "source": [
    "# Data Cleaning"
   ]
  },
  {
   "cell_type": "markdown",
   "metadata": {},
   "source": [
    "## Clean NaN"
   ]
  },
  {
   "cell_type": "code",
   "execution_count": 5,
   "metadata": {},
   "outputs": [
    {
     "name": "stdout",
     "output_type": "stream",
     "text": [
      "Duration (in seconds)       0\n",
      "Q2                          0\n",
      "Q3                          0\n",
      "Q4                          0\n",
      "Q5                          0\n",
      "                         ... \n",
      "Q44_10                   7370\n",
      "Q44_11                   7731\n",
      "Q44_12                   7820\n",
      "Q29_Encoded                 1\n",
      "Q29_buckets                 1\n",
      "Length: 298, dtype: int64\n"
     ]
    }
   ],
   "source": [
    "# See how many null values are in each column\n",
    "number_null = df.isnull().sum(axis=0)\n",
    "print(number_null)"
   ]
  },
  {
   "cell_type": "code",
   "execution_count": 6,
   "metadata": {},
   "outputs": [
    {
     "data": {
      "text/plain": [
       "Q6_1           4374\n",
       "Q6_2           7018\n",
       "Q6_3           5756\n",
       "Q6_4           6679\n",
       "Q6_5           7663\n",
       "               ... \n",
       "Q44_10         7370\n",
       "Q44_11         7731\n",
       "Q44_12         7820\n",
       "Q29_Encoded       1\n",
       "Q29_buckets       1\n",
       "Length: 285, dtype: int64"
      ]
     },
     "execution_count": 6,
     "metadata": {},
     "output_type": "execute_result"
    }
   ],
   "source": [
    "number_null.loc[number_null != 0]"
   ]
  },
  {
   "cell_type": "markdown",
   "metadata": {},
   "source": [
    "There are 285 columns that have NaN values."
   ]
  },
  {
   "cell_type": "markdown",
   "metadata": {},
   "source": [
    "If a feature has lots of data are null(for here is a question contains lots of answers are NaN), (or it has lot of missing values), it doesn't provide useful and enough information either for people understand the meaning or for classification.\n",
    "\n",
    "Although we can fill the missing value with some specific value, the overall validate, meaningful and useful data of that feature does not supprot enough inforamtion for us to have a meaningful and useful value to fill the missing value.\n",
    "\n",
    "The reason why we choose 30% as a threshold is that:\n",
    "\n",
    "Theoretically, 25 to 30% is the maximum missing values are allowed or reasonable to keep the feature(variable), beyond which we might want to drop the variable from analysis. If the missing value is more than 30%, I think the feature data does not provide enough and useful information for us, and we can think it as the not useful feature and drop it."
   ]
  },
  {
   "cell_type": "code",
   "execution_count": 7,
   "metadata": {},
   "outputs": [],
   "source": [
    "# Drop the columns that have more than 30% null values (missing values) \n",
    "\n",
    "for i in df.columns:\n",
    "    if df[i].isnull().sum() > 0.3 * df.shape[0]:\n",
    "        df = df.drop(i, axis=1)"
   ]
  },
  {
   "cell_type": "code",
   "execution_count": 8,
   "metadata": {},
   "outputs": [
    {
     "data": {
      "text/plain": [
       "(8137, 18)"
      ]
     },
     "execution_count": 8,
     "metadata": {},
     "output_type": "execute_result"
    }
   ],
   "source": [
    "df.shape"
   ]
  },
  {
   "cell_type": "code",
   "execution_count": 9,
   "metadata": {},
   "outputs": [
    {
     "data": {
      "text/plain": [
       "Index(['Duration (in seconds)', 'Q2', 'Q3', 'Q4', 'Q5', 'Q8', 'Q11', 'Q12_1',\n",
       "       'Q16', 'Q23', 'Q24', 'Q25', 'Q26', 'Q27', 'Q29', 'Q30', 'Q29_Encoded',\n",
       "       'Q29_buckets'],\n",
       "      dtype='object')"
      ]
     },
     "execution_count": 9,
     "metadata": {},
     "output_type": "execute_result"
    }
   ],
   "source": [
    "df.columns"
   ]
  },
  {
   "cell_type": "code",
   "execution_count": 10,
   "metadata": {},
   "outputs": [
    {
     "data": {
      "text/plain": [
       "array(['What programming languages do you use on a regular basis? (Select all that apply) - Selected Choice - Python',\n",
       "       'Python', nan], dtype=object)"
      ]
     },
     "execution_count": 10,
     "metadata": {},
     "output_type": "execute_result"
    }
   ],
   "source": [
    "df['Q12_1'].unique()"
   ]
  },
  {
   "cell_type": "markdown",
   "metadata": {},
   "source": [
    "We can find that in the original data many question answers(reponses) are divided into different parts. This makes one question leads to several columns in the dataset. For example, for Q6, we have Q6_1, Q6_2, Q6_3... .\n",
    "And after we drop some columns by the rules and threshold above, we have 18 columns left.\n",
    "\n",
    "Q12: What programming languages do you use on a regular basis? (Select all that apply) - Selected Choice\n",
    "\n",
    "Q12_1: What programming languages do you use on a regular basis? (Select all that apply) - Selected Choice - Python\n",
    "\n",
    "In these 18 columns, we have a column 'Q12_1'. But for Q12, we now have the Q12_1 only and we have dropped other columns about Q12 (e.g. Q12_2, Q12_3...). In Q12_1, we only have responses with 'Python' and 'nan'. Other response, like R or Matlab, are in other columns which are about Q12. So if we use this Q12_1 column only and fill the nan with its mode which is Python, and then apply this feature data to machine learning model, it will lead to a model that is unfair and with not enough, useful information. The model will have the bias.\n",
    "\n",
    "So, I decide to drop the column 'Q12_1' to prevent to a bias model due to feature Q12. And only study and build the model with the remaining columns' data (features' data).\n",
    "\n",
    "And also for all the remaining columns (features), each of them has more than 5000 datapoints. Each of them has 8147 datapoints."
   ]
  },
  {
   "cell_type": "code",
   "execution_count": 11,
   "metadata": {},
   "outputs": [
    {
     "data": {
      "text/plain": [
       "(8137, 17)"
      ]
     },
     "execution_count": 11,
     "metadata": {},
     "output_type": "execute_result"
    }
   ],
   "source": [
    "# Drop the 'Q12_1'\n",
    "df.drop(['Q12_1'], axis=1, inplace=True)\n",
    "df.shape"
   ]
  },
  {
   "cell_type": "markdown",
   "metadata": {},
   "source": [
    "Now we have 17 columns and each column has 8136 datapoints (there is another one row with question content). We need to check whether each column has NaN values."
   ]
  },
  {
   "cell_type": "code",
   "execution_count": 12,
   "metadata": {},
   "outputs": [
    {
     "data": {
      "text/plain": [
       "Duration (in seconds)      0\n",
       "Q2                         0\n",
       "Q3                         0\n",
       "Q4                         0\n",
       "Q5                         0\n",
       "Q8                         0\n",
       "Q11                        0\n",
       "Q16                      684\n",
       "Q23                        0\n",
       "Q24                        0\n",
       "Q25                        0\n",
       "Q26                        0\n",
       "Q27                        0\n",
       "Q29                        0\n",
       "Q30                       50\n",
       "Q29_Encoded                1\n",
       "Q29_buckets                1\n",
       "dtype: int64"
      ]
     },
     "execution_count": 12,
     "metadata": {},
     "output_type": "execute_result"
    }
   ],
   "source": [
    "df.isnull().sum()"
   ]
  },
  {
   "cell_type": "markdown",
   "metadata": {},
   "source": [
    "To decide which useful and appropriate method we need to use to fill the missing value, based on the learn from tutorial 6, we can start with data exploration - can check if there a pattern in where the NaN values appear or if the rows with NaN are randomly distributed."
   ]
  },
  {
   "cell_type": "code",
   "execution_count": 13,
   "metadata": {},
   "outputs": [
    {
     "name": "stdout",
     "output_type": "stream",
     "text": [
      "Duration (in seconds) Duration (in seconds)\n",
      "Q2 What is your age (# years)?\n",
      "Q3 What is your gender? - Selected Choice\n",
      "Q4 In which country do you currently reside?\n",
      "Q5 Are you currently a student? (high school, university, or graduate)\n",
      "Q8 What is the highest level of formal education that you have attained or plan to attain within the next 2 years?\n",
      "Q11 For how many years have you been writing code and/or programming?\n",
      "Q16 For how many years have you used machine learning methods?\n",
      "Q23 Select the title most similar to your current role (or most recent title if retired): - Selected Choice\n",
      "Q24 In what industry is your current employer/contract (or your most recent employer if retired)? - Selected Choice\n",
      "Q25 What is the size of the company where you are employed?\n",
      "Q26 Approximately how many individuals are responsible for data science workloads at your place of business?\n",
      "Q27 Does your current employer incorporate machine learning methods into their business?\n",
      "Q29 What is your current yearly compensation (approximate $USD)?\n",
      "Q30 Approximately how much money have you spent on machine learning and/or cloud computing services at home or at work in the past 5 years (approximate $USD)?\n",
      " (approximate $USD)?\n",
      "Q29_Encoded nan\n",
      "Q29_buckets nan\n"
     ]
    }
   ],
   "source": [
    "for i in df.columns:\n",
    "    print(i,df[i][0])"
   ]
  },
  {
   "cell_type": "code",
   "execution_count": 14,
   "metadata": {},
   "outputs": [
    {
     "data": {
      "text/plain": [
       "1-3 years                                                            1468\n",
       "5-10 years                                                           1394\n",
       "3-5 years                                                            1243\n",
       "10-20 years                                                          1155\n",
       "< 1 years                                                            1148\n",
       "20+ years                                                            1044\n",
       "I have never written code                                             684\n",
       "For how many years have you been writing code and/or programming?       1\n",
       "Name: Q11, dtype: int64"
      ]
     },
     "execution_count": 14,
     "metadata": {},
     "output_type": "execute_result"
    }
   ],
   "source": [
    "df.Q11.value_counts()"
   ]
  },
  {
   "cell_type": "code",
   "execution_count": 15,
   "metadata": {},
   "outputs": [
    {
     "data": {
      "text/plain": [
       "Under 1 year                                                  1724\n",
       "1-2 years                                                     1266\n",
       "I do not use machine learning methods                         1107\n",
       "2-3 years                                                      955\n",
       "5-10 years                                                     808\n",
       "4-5 years                                                      635\n",
       "3-4 years                                                      591\n",
       "10-20 years                                                    366\n",
       "For how many years have you used machine learning methods?       1\n",
       "Name: Q16, dtype: int64"
      ]
     },
     "execution_count": 15,
     "metadata": {},
     "output_type": "execute_result"
    }
   ],
   "source": [
    "df.Q16.value_counts()"
   ]
  },
  {
   "cell_type": "code",
   "execution_count": 16,
   "metadata": {},
   "outputs": [
    {
     "data": {
      "text/plain": [
       "$0-999                                                          1112\n",
       "10,000-14,999                                                    493\n",
       "30,000-39,999                                                    464\n",
       "1,000-1,999                                                      444\n",
       "40,000-49,999                                                    421\n",
       "100,000-124,999                                                  404\n",
       "5,000-7,499                                                      391\n",
       "50,000-59,999                                                    366\n",
       "7,500-9,999                                                      362\n",
       "150,000-199,999                                                  342\n",
       "20,000-24,999                                                    337\n",
       "60,000-69,999                                                    318\n",
       "15,000-19,999                                                    299\n",
       "70,000-79,999                                                    289\n",
       "25,000-29,999                                                    277\n",
       "2,000-2,999                                                      271\n",
       "125,000-149,999                                                  269\n",
       "3,000-3,999                                                      244\n",
       "4,000-4,999                                                      234\n",
       "80,000-89,999                                                    222\n",
       "90,000-99,999                                                    197\n",
       "200,000-249,999                                                  155\n",
       "250,000-299,999                                                   78\n",
       "300,000-499,999                                                   76\n",
       "$500,000-999,999                                                  48\n",
       ">$1,000,000                                                       23\n",
       "What is your current yearly compensation (approximate $USD)?       1\n",
       "Name: Q29, dtype: int64"
      ]
     },
     "execution_count": 16,
     "metadata": {},
     "output_type": "execute_result"
    }
   ],
   "source": [
    "df.Q29.value_counts()"
   ]
  },
  {
   "cell_type": "code",
   "execution_count": 17,
   "metadata": {},
   "outputs": [
    {
     "data": {
      "text/plain": [
       "$0 ($USD)                                                                                                                                                                           2653\n",
       "$100-$999                                                                                                                                                                           1993\n",
       "$1000-$9,999                                                                                                                                                                        1412\n",
       "$1-$99                                                                                                                                                                              1401\n",
       "$10,000-$99,999                                                                                                                                                                      453\n",
       "$100,000 or more ($USD)                                                                                                                                                              174\n",
       "Approximately how much money have you spent on machine learning and/or cloud computing services at home or at work in the past 5 years (approximate $USD)?\\n (approximate $USD)?       1\n",
       "Name: Q30, dtype: int64"
      ]
     },
     "execution_count": 17,
     "metadata": {},
     "output_type": "execute_result"
    }
   ],
   "source": [
    "df.Q30.value_counts()"
   ]
  },
  {
   "cell_type": "markdown",
   "metadata": {},
   "source": [
    "At beginning, I want to find some relationship between Q11 & Q16, Q29 & Q30:\n",
    "\n",
    "Q11:For how many years have you been writing code and/or programming?\n",
    "\n",
    "Q16:For how many years have you used machine learning methods?\n",
    "\n",
    "Q11 & Q16: may be someone fill Q11 and they write code about machine learning all the time, so they did't fill Q16\n",
    "\n",
    "Q29 What is your current yearly compensation (approximate $USD)?\n",
    "\n",
    "Q30 Approximately how much money have you spent on machine learning and/or cloud computing services at home or at work in the past 5 years (approximate $USD)?\n",
    "\n",
    "Q29 & Q30: may be the people with higher current yearly compensation spent more money on learning\n",
    "\n",
    "But it seems there is not enough information to find it clearly or ensure there is a relationship between Q11 & Q16, Q29 & Q30."
   ]
  },
  {
   "cell_type": "code",
   "execution_count": 18,
   "metadata": {},
   "outputs": [
    {
     "name": "stdout",
     "output_type": "stream",
     "text": [
      "0.084070796460177\n",
      "0.006145526057030482\n"
     ]
    }
   ],
   "source": [
    "print(df.Q16.isnull().sum() / (len(df.Q16)-1))\n",
    "print(df.Q30.isnull().sum() / (len(df.Q30)-1))"
   ]
  },
  {
   "cell_type": "markdown",
   "metadata": {},
   "source": [
    "We find that the percentage that the NaN value has in their corresponding column is below 1%. So they will not make a great influence to the result and the model. \n",
    "And the difference between the first two values with the largest number for Q16 and Q30 is not very small. Although we fill the NaN value with the mode value, it will not make the model has much bias to the value with largest number.\n",
    "So we can use mode method to fill the NaN values for Q16 and Q30."
   ]
  },
  {
   "cell_type": "code",
   "execution_count": 19,
   "metadata": {},
   "outputs": [],
   "source": [
    "df['Q16'].fillna(df['Q16'].mode()[0],inplace=True)\n",
    "df['Q30'].fillna(df['Q30'].mode()[0],inplace=True)"
   ]
  },
  {
   "cell_type": "code",
   "execution_count": 20,
   "metadata": {},
   "outputs": [
    {
     "data": {
      "text/html": [
       "<div>\n",
       "<style scoped>\n",
       "    .dataframe tbody tr th:only-of-type {\n",
       "        vertical-align: middle;\n",
       "    }\n",
       "\n",
       "    .dataframe tbody tr th {\n",
       "        vertical-align: top;\n",
       "    }\n",
       "\n",
       "    .dataframe thead th {\n",
       "        text-align: right;\n",
       "    }\n",
       "</style>\n",
       "<table border=\"1\" class=\"dataframe\">\n",
       "  <thead>\n",
       "    <tr style=\"text-align: right;\">\n",
       "      <th></th>\n",
       "      <th>Duration (in seconds)</th>\n",
       "      <th>Q2</th>\n",
       "      <th>Q3</th>\n",
       "      <th>Q4</th>\n",
       "      <th>Q5</th>\n",
       "      <th>Q8</th>\n",
       "      <th>Q11</th>\n",
       "      <th>Q16</th>\n",
       "      <th>Q23</th>\n",
       "      <th>Q24</th>\n",
       "      <th>Q25</th>\n",
       "      <th>Q26</th>\n",
       "      <th>Q27</th>\n",
       "      <th>Q29</th>\n",
       "      <th>Q30</th>\n",
       "      <th>Q29_Encoded</th>\n",
       "      <th>Q29_buckets</th>\n",
       "    </tr>\n",
       "  </thead>\n",
       "  <tbody>\n",
       "    <tr>\n",
       "      <th>0</th>\n",
       "      <td>Duration (in seconds)</td>\n",
       "      <td>What is your age (# years)?</td>\n",
       "      <td>What is your gender? - Selected Choice</td>\n",
       "      <td>In which country do you currently reside?</td>\n",
       "      <td>Are you currently a student? (high school, uni...</td>\n",
       "      <td>What is the highest level of formal education ...</td>\n",
       "      <td>For how many years have you been writing code ...</td>\n",
       "      <td>For how many years have you used machine learn...</td>\n",
       "      <td>Select the title most similar to your current ...</td>\n",
       "      <td>In what industry is your current employer/cont...</td>\n",
       "      <td>What is the size of the company where you are ...</td>\n",
       "      <td>Approximately how many individuals are respons...</td>\n",
       "      <td>Does your current employer incorporate machine...</td>\n",
       "      <td>What is your current yearly compensation (appr...</td>\n",
       "      <td>Approximately how much money have you spent on...</td>\n",
       "      <td>NaN</td>\n",
       "      <td>NaN</td>\n",
       "    </tr>\n",
       "    <tr>\n",
       "      <th>1</th>\n",
       "      <td>851</td>\n",
       "      <td>55-59</td>\n",
       "      <td>Man</td>\n",
       "      <td>France</td>\n",
       "      <td>No</td>\n",
       "      <td>Some college/university study without earning ...</td>\n",
       "      <td>10-20 years</td>\n",
       "      <td>1-2 years</td>\n",
       "      <td>Data Scientist</td>\n",
       "      <td>Online Service/Internet-based Services</td>\n",
       "      <td>0-49 employees</td>\n",
       "      <td>1-2</td>\n",
       "      <td>We recently started using ML methods (i.e., mo...</td>\n",
       "      <td>25,000-29,999</td>\n",
       "      <td>$1000-$9,999</td>\n",
       "      <td>2.0</td>\n",
       "      <td>20,000-29,999</td>\n",
       "    </tr>\n",
       "    <tr>\n",
       "      <th>2</th>\n",
       "      <td>501</td>\n",
       "      <td>30-34</td>\n",
       "      <td>Man</td>\n",
       "      <td>Germany</td>\n",
       "      <td>No</td>\n",
       "      <td>Bachelor’s degree</td>\n",
       "      <td>10-20 years</td>\n",
       "      <td>4-5 years</td>\n",
       "      <td>Software Engineer</td>\n",
       "      <td>Insurance/Risk Assessment</td>\n",
       "      <td>250-999 employees</td>\n",
       "      <td>20+</td>\n",
       "      <td>We have well established ML methods (i.e., mod...</td>\n",
       "      <td>100,000-124,999</td>\n",
       "      <td>$0 ($USD)</td>\n",
       "      <td>10.0</td>\n",
       "      <td>100,000-124,999</td>\n",
       "    </tr>\n",
       "    <tr>\n",
       "      <th>3</th>\n",
       "      <td>787</td>\n",
       "      <td>70+</td>\n",
       "      <td>Man</td>\n",
       "      <td>Australia</td>\n",
       "      <td>No</td>\n",
       "      <td>Doctoral degree</td>\n",
       "      <td>20+ years</td>\n",
       "      <td>5-10 years</td>\n",
       "      <td>Research Scientist</td>\n",
       "      <td>Government/Public Service</td>\n",
       "      <td>1000-9,999 employees</td>\n",
       "      <td>20+</td>\n",
       "      <td>We recently started using ML methods (i.e., mo...</td>\n",
       "      <td>100,000-124,999</td>\n",
       "      <td>$100-$999</td>\n",
       "      <td>10.0</td>\n",
       "      <td>100,000-124,999</td>\n",
       "    </tr>\n",
       "    <tr>\n",
       "      <th>4</th>\n",
       "      <td>1132</td>\n",
       "      <td>40-44</td>\n",
       "      <td>Man</td>\n",
       "      <td>United States of America</td>\n",
       "      <td>No</td>\n",
       "      <td>Doctoral degree</td>\n",
       "      <td>10-20 years</td>\n",
       "      <td>5-10 years</td>\n",
       "      <td>Developer Advocate</td>\n",
       "      <td>Computers/Technology</td>\n",
       "      <td>1000-9,999 employees</td>\n",
       "      <td>20+</td>\n",
       "      <td>We have well established ML methods (i.e., mod...</td>\n",
       "      <td>200,000-249,999</td>\n",
       "      <td>$100-$999</td>\n",
       "      <td>13.0</td>\n",
       "      <td>200,000-299,999</td>\n",
       "    </tr>\n",
       "    <tr>\n",
       "      <th>...</th>\n",
       "      <td>...</td>\n",
       "      <td>...</td>\n",
       "      <td>...</td>\n",
       "      <td>...</td>\n",
       "      <td>...</td>\n",
       "      <td>...</td>\n",
       "      <td>...</td>\n",
       "      <td>...</td>\n",
       "      <td>...</td>\n",
       "      <td>...</td>\n",
       "      <td>...</td>\n",
       "      <td>...</td>\n",
       "      <td>...</td>\n",
       "      <td>...</td>\n",
       "      <td>...</td>\n",
       "      <td>...</td>\n",
       "      <td>...</td>\n",
       "    </tr>\n",
       "    <tr>\n",
       "      <th>8132</th>\n",
       "      <td>540</td>\n",
       "      <td>40-44</td>\n",
       "      <td>Man</td>\n",
       "      <td>United States of America</td>\n",
       "      <td>No</td>\n",
       "      <td>Master’s degree</td>\n",
       "      <td>10-20 years</td>\n",
       "      <td>Under 1 year</td>\n",
       "      <td>Data Architect</td>\n",
       "      <td>Accounting/Finance</td>\n",
       "      <td>10,000 or more employees</td>\n",
       "      <td>20+</td>\n",
       "      <td>We have well established ML methods (i.e., mod...</td>\n",
       "      <td>100,000-124,999</td>\n",
       "      <td>$0 ($USD)</td>\n",
       "      <td>10.0</td>\n",
       "      <td>100,000-124,999</td>\n",
       "    </tr>\n",
       "    <tr>\n",
       "      <th>8133</th>\n",
       "      <td>603</td>\n",
       "      <td>35-39</td>\n",
       "      <td>Man</td>\n",
       "      <td>India</td>\n",
       "      <td>No</td>\n",
       "      <td>Master’s degree</td>\n",
       "      <td>1-3 years</td>\n",
       "      <td>1-2 years</td>\n",
       "      <td>Data Scientist</td>\n",
       "      <td>Broadcasting/Communications</td>\n",
       "      <td>10,000 or more employees</td>\n",
       "      <td>1-2</td>\n",
       "      <td>We have well established ML methods (i.e., mod...</td>\n",
       "      <td>2,000-2,999</td>\n",
       "      <td>$100-$999</td>\n",
       "      <td>0.0</td>\n",
       "      <td>0-9,999</td>\n",
       "    </tr>\n",
       "    <tr>\n",
       "      <th>8134</th>\n",
       "      <td>557</td>\n",
       "      <td>40-44</td>\n",
       "      <td>Man</td>\n",
       "      <td>India</td>\n",
       "      <td>No</td>\n",
       "      <td>Bachelor’s degree</td>\n",
       "      <td>1-3 years</td>\n",
       "      <td>I do not use machine learning methods</td>\n",
       "      <td>Data Engineer</td>\n",
       "      <td>Computers/Technology</td>\n",
       "      <td>0-49 employees</td>\n",
       "      <td>0</td>\n",
       "      <td>No (we do not use ML methods)</td>\n",
       "      <td>$0-999</td>\n",
       "      <td>$1-$99</td>\n",
       "      <td>0.0</td>\n",
       "      <td>0-9,999</td>\n",
       "    </tr>\n",
       "    <tr>\n",
       "      <th>8135</th>\n",
       "      <td>860</td>\n",
       "      <td>25-29</td>\n",
       "      <td>Man</td>\n",
       "      <td>Turkey</td>\n",
       "      <td>No</td>\n",
       "      <td>Master’s degree</td>\n",
       "      <td>&lt; 1 years</td>\n",
       "      <td>Under 1 year</td>\n",
       "      <td>Engineer (non-software)</td>\n",
       "      <td>Energy/Mining</td>\n",
       "      <td>10,000 or more employees</td>\n",
       "      <td>0</td>\n",
       "      <td>No (we do not use ML methods)</td>\n",
       "      <td>25,000-29,999</td>\n",
       "      <td>$100-$999</td>\n",
       "      <td>2.0</td>\n",
       "      <td>20,000-29,999</td>\n",
       "    </tr>\n",
       "    <tr>\n",
       "      <th>8136</th>\n",
       "      <td>597</td>\n",
       "      <td>35-39</td>\n",
       "      <td>Woman</td>\n",
       "      <td>Israel</td>\n",
       "      <td>No</td>\n",
       "      <td>Doctoral degree</td>\n",
       "      <td>3-5 years</td>\n",
       "      <td>Under 1 year</td>\n",
       "      <td>Research Scientist</td>\n",
       "      <td>Academics/Education</td>\n",
       "      <td>0-49 employees</td>\n",
       "      <td>0</td>\n",
       "      <td>We recently started using ML methods (i.e., mo...</td>\n",
       "      <td>15,000-19,999</td>\n",
       "      <td>$0 ($USD)</td>\n",
       "      <td>1.0</td>\n",
       "      <td>10,000-19,999</td>\n",
       "    </tr>\n",
       "  </tbody>\n",
       "</table>\n",
       "<p>8137 rows × 17 columns</p>\n",
       "</div>"
      ],
      "text/plain": [
       "      Duration (in seconds)                           Q2  \\\n",
       "0     Duration (in seconds)  What is your age (# years)?   \n",
       "1                       851                        55-59   \n",
       "2                       501                        30-34   \n",
       "3                       787                          70+   \n",
       "4                      1132                        40-44   \n",
       "...                     ...                          ...   \n",
       "8132                    540                        40-44   \n",
       "8133                    603                        35-39   \n",
       "8134                    557                        40-44   \n",
       "8135                    860                        25-29   \n",
       "8136                    597                        35-39   \n",
       "\n",
       "                                          Q3  \\\n",
       "0     What is your gender? - Selected Choice   \n",
       "1                                        Man   \n",
       "2                                        Man   \n",
       "3                                        Man   \n",
       "4                                        Man   \n",
       "...                                      ...   \n",
       "8132                                     Man   \n",
       "8133                                     Man   \n",
       "8134                                     Man   \n",
       "8135                                     Man   \n",
       "8136                                   Woman   \n",
       "\n",
       "                                             Q4  \\\n",
       "0     In which country do you currently reside?   \n",
       "1                                        France   \n",
       "2                                       Germany   \n",
       "3                                     Australia   \n",
       "4                      United States of America   \n",
       "...                                         ...   \n",
       "8132                   United States of America   \n",
       "8133                                      India   \n",
       "8134                                      India   \n",
       "8135                                     Turkey   \n",
       "8136                                     Israel   \n",
       "\n",
       "                                                     Q5  \\\n",
       "0     Are you currently a student? (high school, uni...   \n",
       "1                                                    No   \n",
       "2                                                    No   \n",
       "3                                                    No   \n",
       "4                                                    No   \n",
       "...                                                 ...   \n",
       "8132                                                 No   \n",
       "8133                                                 No   \n",
       "8134                                                 No   \n",
       "8135                                                 No   \n",
       "8136                                                 No   \n",
       "\n",
       "                                                     Q8  \\\n",
       "0     What is the highest level of formal education ...   \n",
       "1     Some college/university study without earning ...   \n",
       "2                                     Bachelor’s degree   \n",
       "3                                       Doctoral degree   \n",
       "4                                       Doctoral degree   \n",
       "...                                                 ...   \n",
       "8132                                    Master’s degree   \n",
       "8133                                    Master’s degree   \n",
       "8134                                  Bachelor’s degree   \n",
       "8135                                    Master’s degree   \n",
       "8136                                    Doctoral degree   \n",
       "\n",
       "                                                    Q11  \\\n",
       "0     For how many years have you been writing code ...   \n",
       "1                                           10-20 years   \n",
       "2                                           10-20 years   \n",
       "3                                             20+ years   \n",
       "4                                           10-20 years   \n",
       "...                                                 ...   \n",
       "8132                                        10-20 years   \n",
       "8133                                          1-3 years   \n",
       "8134                                          1-3 years   \n",
       "8135                                          < 1 years   \n",
       "8136                                          3-5 years   \n",
       "\n",
       "                                                    Q16  \\\n",
       "0     For how many years have you used machine learn...   \n",
       "1                                             1-2 years   \n",
       "2                                             4-5 years   \n",
       "3                                            5-10 years   \n",
       "4                                            5-10 years   \n",
       "...                                                 ...   \n",
       "8132                                       Under 1 year   \n",
       "8133                                          1-2 years   \n",
       "8134              I do not use machine learning methods   \n",
       "8135                                       Under 1 year   \n",
       "8136                                       Under 1 year   \n",
       "\n",
       "                                                    Q23  \\\n",
       "0     Select the title most similar to your current ...   \n",
       "1                                        Data Scientist   \n",
       "2                                     Software Engineer   \n",
       "3                                    Research Scientist   \n",
       "4                                    Developer Advocate   \n",
       "...                                                 ...   \n",
       "8132                                     Data Architect   \n",
       "8133                                     Data Scientist   \n",
       "8134                                      Data Engineer   \n",
       "8135                            Engineer (non-software)   \n",
       "8136                                 Research Scientist   \n",
       "\n",
       "                                                    Q24  \\\n",
       "0     In what industry is your current employer/cont...   \n",
       "1                Online Service/Internet-based Services   \n",
       "2                             Insurance/Risk Assessment   \n",
       "3                             Government/Public Service   \n",
       "4                                  Computers/Technology   \n",
       "...                                                 ...   \n",
       "8132                                 Accounting/Finance   \n",
       "8133                        Broadcasting/Communications   \n",
       "8134                               Computers/Technology   \n",
       "8135                                      Energy/Mining   \n",
       "8136                                Academics/Education   \n",
       "\n",
       "                                                    Q25  \\\n",
       "0     What is the size of the company where you are ...   \n",
       "1                                        0-49 employees   \n",
       "2                                     250-999 employees   \n",
       "3                                  1000-9,999 employees   \n",
       "4                                  1000-9,999 employees   \n",
       "...                                                 ...   \n",
       "8132                           10,000 or more employees   \n",
       "8133                           10,000 or more employees   \n",
       "8134                                     0-49 employees   \n",
       "8135                           10,000 or more employees   \n",
       "8136                                     0-49 employees   \n",
       "\n",
       "                                                    Q26  \\\n",
       "0     Approximately how many individuals are respons...   \n",
       "1                                                   1-2   \n",
       "2                                                   20+   \n",
       "3                                                   20+   \n",
       "4                                                   20+   \n",
       "...                                                 ...   \n",
       "8132                                                20+   \n",
       "8133                                                1-2   \n",
       "8134                                                  0   \n",
       "8135                                                  0   \n",
       "8136                                                  0   \n",
       "\n",
       "                                                    Q27  \\\n",
       "0     Does your current employer incorporate machine...   \n",
       "1     We recently started using ML methods (i.e., mo...   \n",
       "2     We have well established ML methods (i.e., mod...   \n",
       "3     We recently started using ML methods (i.e., mo...   \n",
       "4     We have well established ML methods (i.e., mod...   \n",
       "...                                                 ...   \n",
       "8132  We have well established ML methods (i.e., mod...   \n",
       "8133  We have well established ML methods (i.e., mod...   \n",
       "8134                      No (we do not use ML methods)   \n",
       "8135                      No (we do not use ML methods)   \n",
       "8136  We recently started using ML methods (i.e., mo...   \n",
       "\n",
       "                                                    Q29  \\\n",
       "0     What is your current yearly compensation (appr...   \n",
       "1                                         25,000-29,999   \n",
       "2                                       100,000-124,999   \n",
       "3                                       100,000-124,999   \n",
       "4                                       200,000-249,999   \n",
       "...                                                 ...   \n",
       "8132                                    100,000-124,999   \n",
       "8133                                        2,000-2,999   \n",
       "8134                                             $0-999   \n",
       "8135                                      25,000-29,999   \n",
       "8136                                      15,000-19,999   \n",
       "\n",
       "                                                    Q30  Q29_Encoded  \\\n",
       "0     Approximately how much money have you spent on...          NaN   \n",
       "1                                          $1000-$9,999          2.0   \n",
       "2                                             $0 ($USD)         10.0   \n",
       "3                                             $100-$999         10.0   \n",
       "4                                             $100-$999         13.0   \n",
       "...                                                 ...          ...   \n",
       "8132                                          $0 ($USD)         10.0   \n",
       "8133                                          $100-$999          0.0   \n",
       "8134                                             $1-$99          0.0   \n",
       "8135                                          $100-$999          2.0   \n",
       "8136                                          $0 ($USD)          1.0   \n",
       "\n",
       "          Q29_buckets  \n",
       "0                 NaN  \n",
       "1       20,000-29,999  \n",
       "2     100,000-124,999  \n",
       "3     100,000-124,999  \n",
       "4     200,000-299,999  \n",
       "...               ...  \n",
       "8132  100,000-124,999  \n",
       "8133          0-9,999  \n",
       "8134          0-9,999  \n",
       "8135    20,000-29,999  \n",
       "8136    10,000-19,999  \n",
       "\n",
       "[8137 rows x 17 columns]"
      ]
     },
     "execution_count": 20,
     "metadata": {},
     "output_type": "execute_result"
    }
   ],
   "source": [
    "df"
   ]
  },
  {
   "cell_type": "markdown",
   "metadata": {},
   "source": [
    "## convert categorical data into numerical data by encoding"
   ]
  },
  {
   "cell_type": "markdown",
   "metadata": {},
   "source": [
    "Duration (in seconds) Duration (in seconds)\n",
    "\n",
    "Q2 What is your age (# years)?\n",
    "\n",
    "Q3 What is your gender? - Selected Choice\n",
    "\n",
    "Q4 In which country do you currently reside?\n",
    "\n",
    "Q5 Are you currently a student? (high school, university, or graduate)\n",
    "\n",
    "Q8 What is the highest level of formal education that you have attained or plan to attain within the next 2 years?\n",
    "\n",
    "Q11 For how many years have you been writing code and/or programming?\n",
    "\n",
    "Q16 For how many years have you used machine learning methods?\n",
    "\n",
    "Q23 Select the title most similar to your current role (or most recent title if retired): - Selected Choice\n",
    "\n",
    "Q24 In what industry is your current employer/contract (or your most recent employer if retired)? - Selected Choice\n",
    "\n",
    "Q25 What is the size of the company where you are employed?\n",
    "\n",
    "Q26 Approximately how many individuals are responsible for data science workloads at your place of business?\n",
    "\n",
    "Q27 Does your current employer incorporate machine learning methods into their business?\n",
    "\n",
    "Q29 What is your current yearly compensation (approximate $USD)?\n",
    "\n",
    "Q30 Approximately how much money have you spent on machine learning and/or cloud computing services at home or at work in the past 5 years (approximate $USD)?\n",
    " (approximate $USD)?\n",
    " \n",
    "Q29_Encoded nan\n",
    "Q29_buckets nan\n"
   ]
  },
  {
   "cell_type": "markdown",
   "metadata": {},
   "source": [
    "We now know and have what question is for each column, so we can drop the first row which is the question content for each column(feature). This will help us decrease one variable after we converting data."
   ]
  },
  {
   "cell_type": "code",
   "execution_count": 21,
   "metadata": {},
   "outputs": [],
   "source": [
    "df = df[1:]"
   ]
  },
  {
   "cell_type": "code",
   "execution_count": 22,
   "metadata": {},
   "outputs": [
    {
     "data": {
      "text/html": [
       "<div>\n",
       "<style scoped>\n",
       "    .dataframe tbody tr th:only-of-type {\n",
       "        vertical-align: middle;\n",
       "    }\n",
       "\n",
       "    .dataframe tbody tr th {\n",
       "        vertical-align: top;\n",
       "    }\n",
       "\n",
       "    .dataframe thead th {\n",
       "        text-align: right;\n",
       "    }\n",
       "</style>\n",
       "<table border=\"1\" class=\"dataframe\">\n",
       "  <thead>\n",
       "    <tr style=\"text-align: right;\">\n",
       "      <th></th>\n",
       "      <th>Duration (in seconds)</th>\n",
       "      <th>Q2</th>\n",
       "      <th>Q3</th>\n",
       "      <th>Q4</th>\n",
       "      <th>Q5</th>\n",
       "      <th>Q8</th>\n",
       "      <th>Q11</th>\n",
       "      <th>Q16</th>\n",
       "      <th>Q23</th>\n",
       "      <th>Q24</th>\n",
       "      <th>Q25</th>\n",
       "      <th>Q26</th>\n",
       "      <th>Q27</th>\n",
       "      <th>Q29</th>\n",
       "      <th>Q30</th>\n",
       "      <th>Q29_Encoded</th>\n",
       "      <th>Q29_buckets</th>\n",
       "    </tr>\n",
       "  </thead>\n",
       "  <tbody>\n",
       "    <tr>\n",
       "      <th>1</th>\n",
       "      <td>851</td>\n",
       "      <td>55-59</td>\n",
       "      <td>Man</td>\n",
       "      <td>France</td>\n",
       "      <td>No</td>\n",
       "      <td>Some college/university study without earning ...</td>\n",
       "      <td>10-20 years</td>\n",
       "      <td>1-2 years</td>\n",
       "      <td>Data Scientist</td>\n",
       "      <td>Online Service/Internet-based Services</td>\n",
       "      <td>0-49 employees</td>\n",
       "      <td>1-2</td>\n",
       "      <td>We recently started using ML methods (i.e., mo...</td>\n",
       "      <td>25,000-29,999</td>\n",
       "      <td>$1000-$9,999</td>\n",
       "      <td>2.0</td>\n",
       "      <td>20,000-29,999</td>\n",
       "    </tr>\n",
       "    <tr>\n",
       "      <th>2</th>\n",
       "      <td>501</td>\n",
       "      <td>30-34</td>\n",
       "      <td>Man</td>\n",
       "      <td>Germany</td>\n",
       "      <td>No</td>\n",
       "      <td>Bachelor’s degree</td>\n",
       "      <td>10-20 years</td>\n",
       "      <td>4-5 years</td>\n",
       "      <td>Software Engineer</td>\n",
       "      <td>Insurance/Risk Assessment</td>\n",
       "      <td>250-999 employees</td>\n",
       "      <td>20+</td>\n",
       "      <td>We have well established ML methods (i.e., mod...</td>\n",
       "      <td>100,000-124,999</td>\n",
       "      <td>$0 ($USD)</td>\n",
       "      <td>10.0</td>\n",
       "      <td>100,000-124,999</td>\n",
       "    </tr>\n",
       "    <tr>\n",
       "      <th>3</th>\n",
       "      <td>787</td>\n",
       "      <td>70+</td>\n",
       "      <td>Man</td>\n",
       "      <td>Australia</td>\n",
       "      <td>No</td>\n",
       "      <td>Doctoral degree</td>\n",
       "      <td>20+ years</td>\n",
       "      <td>5-10 years</td>\n",
       "      <td>Research Scientist</td>\n",
       "      <td>Government/Public Service</td>\n",
       "      <td>1000-9,999 employees</td>\n",
       "      <td>20+</td>\n",
       "      <td>We recently started using ML methods (i.e., mo...</td>\n",
       "      <td>100,000-124,999</td>\n",
       "      <td>$100-$999</td>\n",
       "      <td>10.0</td>\n",
       "      <td>100,000-124,999</td>\n",
       "    </tr>\n",
       "    <tr>\n",
       "      <th>4</th>\n",
       "      <td>1132</td>\n",
       "      <td>40-44</td>\n",
       "      <td>Man</td>\n",
       "      <td>United States of America</td>\n",
       "      <td>No</td>\n",
       "      <td>Doctoral degree</td>\n",
       "      <td>10-20 years</td>\n",
       "      <td>5-10 years</td>\n",
       "      <td>Developer Advocate</td>\n",
       "      <td>Computers/Technology</td>\n",
       "      <td>1000-9,999 employees</td>\n",
       "      <td>20+</td>\n",
       "      <td>We have well established ML methods (i.e., mod...</td>\n",
       "      <td>200,000-249,999</td>\n",
       "      <td>$100-$999</td>\n",
       "      <td>13.0</td>\n",
       "      <td>200,000-299,999</td>\n",
       "    </tr>\n",
       "    <tr>\n",
       "      <th>5</th>\n",
       "      <td>679</td>\n",
       "      <td>40-44</td>\n",
       "      <td>Man</td>\n",
       "      <td>United States of America</td>\n",
       "      <td>No</td>\n",
       "      <td>Master’s degree</td>\n",
       "      <td>10-20 years</td>\n",
       "      <td>5-10 years</td>\n",
       "      <td>Data Scientist</td>\n",
       "      <td>Computers/Technology</td>\n",
       "      <td>1000-9,999 employees</td>\n",
       "      <td>3-4</td>\n",
       "      <td>We have well established ML methods (i.e., mod...</td>\n",
       "      <td>200,000-249,999</td>\n",
       "      <td>$100,000 or more ($USD)</td>\n",
       "      <td>13.0</td>\n",
       "      <td>200,000-299,999</td>\n",
       "    </tr>\n",
       "    <tr>\n",
       "      <th>...</th>\n",
       "      <td>...</td>\n",
       "      <td>...</td>\n",
       "      <td>...</td>\n",
       "      <td>...</td>\n",
       "      <td>...</td>\n",
       "      <td>...</td>\n",
       "      <td>...</td>\n",
       "      <td>...</td>\n",
       "      <td>...</td>\n",
       "      <td>...</td>\n",
       "      <td>...</td>\n",
       "      <td>...</td>\n",
       "      <td>...</td>\n",
       "      <td>...</td>\n",
       "      <td>...</td>\n",
       "      <td>...</td>\n",
       "      <td>...</td>\n",
       "    </tr>\n",
       "    <tr>\n",
       "      <th>8132</th>\n",
       "      <td>540</td>\n",
       "      <td>40-44</td>\n",
       "      <td>Man</td>\n",
       "      <td>United States of America</td>\n",
       "      <td>No</td>\n",
       "      <td>Master’s degree</td>\n",
       "      <td>10-20 years</td>\n",
       "      <td>Under 1 year</td>\n",
       "      <td>Data Architect</td>\n",
       "      <td>Accounting/Finance</td>\n",
       "      <td>10,000 or more employees</td>\n",
       "      <td>20+</td>\n",
       "      <td>We have well established ML methods (i.e., mod...</td>\n",
       "      <td>100,000-124,999</td>\n",
       "      <td>$0 ($USD)</td>\n",
       "      <td>10.0</td>\n",
       "      <td>100,000-124,999</td>\n",
       "    </tr>\n",
       "    <tr>\n",
       "      <th>8133</th>\n",
       "      <td>603</td>\n",
       "      <td>35-39</td>\n",
       "      <td>Man</td>\n",
       "      <td>India</td>\n",
       "      <td>No</td>\n",
       "      <td>Master’s degree</td>\n",
       "      <td>1-3 years</td>\n",
       "      <td>1-2 years</td>\n",
       "      <td>Data Scientist</td>\n",
       "      <td>Broadcasting/Communications</td>\n",
       "      <td>10,000 or more employees</td>\n",
       "      <td>1-2</td>\n",
       "      <td>We have well established ML methods (i.e., mod...</td>\n",
       "      <td>2,000-2,999</td>\n",
       "      <td>$100-$999</td>\n",
       "      <td>0.0</td>\n",
       "      <td>0-9,999</td>\n",
       "    </tr>\n",
       "    <tr>\n",
       "      <th>8134</th>\n",
       "      <td>557</td>\n",
       "      <td>40-44</td>\n",
       "      <td>Man</td>\n",
       "      <td>India</td>\n",
       "      <td>No</td>\n",
       "      <td>Bachelor’s degree</td>\n",
       "      <td>1-3 years</td>\n",
       "      <td>I do not use machine learning methods</td>\n",
       "      <td>Data Engineer</td>\n",
       "      <td>Computers/Technology</td>\n",
       "      <td>0-49 employees</td>\n",
       "      <td>0</td>\n",
       "      <td>No (we do not use ML methods)</td>\n",
       "      <td>$0-999</td>\n",
       "      <td>$1-$99</td>\n",
       "      <td>0.0</td>\n",
       "      <td>0-9,999</td>\n",
       "    </tr>\n",
       "    <tr>\n",
       "      <th>8135</th>\n",
       "      <td>860</td>\n",
       "      <td>25-29</td>\n",
       "      <td>Man</td>\n",
       "      <td>Turkey</td>\n",
       "      <td>No</td>\n",
       "      <td>Master’s degree</td>\n",
       "      <td>&lt; 1 years</td>\n",
       "      <td>Under 1 year</td>\n",
       "      <td>Engineer (non-software)</td>\n",
       "      <td>Energy/Mining</td>\n",
       "      <td>10,000 or more employees</td>\n",
       "      <td>0</td>\n",
       "      <td>No (we do not use ML methods)</td>\n",
       "      <td>25,000-29,999</td>\n",
       "      <td>$100-$999</td>\n",
       "      <td>2.0</td>\n",
       "      <td>20,000-29,999</td>\n",
       "    </tr>\n",
       "    <tr>\n",
       "      <th>8136</th>\n",
       "      <td>597</td>\n",
       "      <td>35-39</td>\n",
       "      <td>Woman</td>\n",
       "      <td>Israel</td>\n",
       "      <td>No</td>\n",
       "      <td>Doctoral degree</td>\n",
       "      <td>3-5 years</td>\n",
       "      <td>Under 1 year</td>\n",
       "      <td>Research Scientist</td>\n",
       "      <td>Academics/Education</td>\n",
       "      <td>0-49 employees</td>\n",
       "      <td>0</td>\n",
       "      <td>We recently started using ML methods (i.e., mo...</td>\n",
       "      <td>15,000-19,999</td>\n",
       "      <td>$0 ($USD)</td>\n",
       "      <td>1.0</td>\n",
       "      <td>10,000-19,999</td>\n",
       "    </tr>\n",
       "  </tbody>\n",
       "</table>\n",
       "<p>8136 rows × 17 columns</p>\n",
       "</div>"
      ],
      "text/plain": [
       "     Duration (in seconds)     Q2     Q3                        Q4  Q5  \\\n",
       "1                      851  55-59    Man                    France  No   \n",
       "2                      501  30-34    Man                   Germany  No   \n",
       "3                      787    70+    Man                 Australia  No   \n",
       "4                     1132  40-44    Man  United States of America  No   \n",
       "5                      679  40-44    Man  United States of America  No   \n",
       "...                    ...    ...    ...                       ...  ..   \n",
       "8132                   540  40-44    Man  United States of America  No   \n",
       "8133                   603  35-39    Man                     India  No   \n",
       "8134                   557  40-44    Man                     India  No   \n",
       "8135                   860  25-29    Man                    Turkey  No   \n",
       "8136                   597  35-39  Woman                    Israel  No   \n",
       "\n",
       "                                                     Q8          Q11  \\\n",
       "1     Some college/university study without earning ...  10-20 years   \n",
       "2                                     Bachelor’s degree  10-20 years   \n",
       "3                                       Doctoral degree    20+ years   \n",
       "4                                       Doctoral degree  10-20 years   \n",
       "5                                       Master’s degree  10-20 years   \n",
       "...                                                 ...          ...   \n",
       "8132                                    Master’s degree  10-20 years   \n",
       "8133                                    Master’s degree    1-3 years   \n",
       "8134                                  Bachelor’s degree    1-3 years   \n",
       "8135                                    Master’s degree    < 1 years   \n",
       "8136                                    Doctoral degree    3-5 years   \n",
       "\n",
       "                                        Q16                      Q23  \\\n",
       "1                                 1-2 years           Data Scientist   \n",
       "2                                 4-5 years        Software Engineer   \n",
       "3                                5-10 years       Research Scientist   \n",
       "4                                5-10 years       Developer Advocate   \n",
       "5                                5-10 years           Data Scientist   \n",
       "...                                     ...                      ...   \n",
       "8132                           Under 1 year           Data Architect   \n",
       "8133                              1-2 years           Data Scientist   \n",
       "8134  I do not use machine learning methods            Data Engineer   \n",
       "8135                           Under 1 year  Engineer (non-software)   \n",
       "8136                           Under 1 year       Research Scientist   \n",
       "\n",
       "                                         Q24                       Q25  Q26  \\\n",
       "1     Online Service/Internet-based Services            0-49 employees  1-2   \n",
       "2                  Insurance/Risk Assessment         250-999 employees  20+   \n",
       "3                  Government/Public Service      1000-9,999 employees  20+   \n",
       "4                       Computers/Technology      1000-9,999 employees  20+   \n",
       "5                       Computers/Technology      1000-9,999 employees  3-4   \n",
       "...                                      ...                       ...  ...   \n",
       "8132                      Accounting/Finance  10,000 or more employees  20+   \n",
       "8133             Broadcasting/Communications  10,000 or more employees  1-2   \n",
       "8134                    Computers/Technology            0-49 employees    0   \n",
       "8135                           Energy/Mining  10,000 or more employees    0   \n",
       "8136                     Academics/Education            0-49 employees    0   \n",
       "\n",
       "                                                    Q27              Q29  \\\n",
       "1     We recently started using ML methods (i.e., mo...    25,000-29,999   \n",
       "2     We have well established ML methods (i.e., mod...  100,000-124,999   \n",
       "3     We recently started using ML methods (i.e., mo...  100,000-124,999   \n",
       "4     We have well established ML methods (i.e., mod...  200,000-249,999   \n",
       "5     We have well established ML methods (i.e., mod...  200,000-249,999   \n",
       "...                                                 ...              ...   \n",
       "8132  We have well established ML methods (i.e., mod...  100,000-124,999   \n",
       "8133  We have well established ML methods (i.e., mod...      2,000-2,999   \n",
       "8134                      No (we do not use ML methods)           $0-999   \n",
       "8135                      No (we do not use ML methods)    25,000-29,999   \n",
       "8136  We recently started using ML methods (i.e., mo...    15,000-19,999   \n",
       "\n",
       "                          Q30  Q29_Encoded      Q29_buckets  \n",
       "1                $1000-$9,999          2.0    20,000-29,999  \n",
       "2                   $0 ($USD)         10.0  100,000-124,999  \n",
       "3                   $100-$999         10.0  100,000-124,999  \n",
       "4                   $100-$999         13.0  200,000-299,999  \n",
       "5     $100,000 or more ($USD)         13.0  200,000-299,999  \n",
       "...                       ...          ...              ...  \n",
       "8132                $0 ($USD)         10.0  100,000-124,999  \n",
       "8133                $100-$999          0.0          0-9,999  \n",
       "8134                   $1-$99          0.0          0-9,999  \n",
       "8135                $100-$999          2.0    20,000-29,999  \n",
       "8136                $0 ($USD)          1.0    10,000-19,999  \n",
       "\n",
       "[8136 rows x 17 columns]"
      ]
     },
     "execution_count": 22,
     "metadata": {},
     "output_type": "execute_result"
    }
   ],
   "source": [
    "df"
   ]
  },
  {
   "cell_type": "markdown",
   "metadata": {},
   "source": [
    "### Nominal Data"
   ]
  },
  {
   "cell_type": "markdown",
   "metadata": {},
   "source": [
    "For the features(columns) that are catrgorical and nomial,\n",
    "we use Dummy Encoding for Q3, Q4, Q5, Q23, Q24, Q27. It is similar to one-hot encoding. It transforms the catorical variable into a set of binary variables (True, False). It uses N-1 dummy variabels to represent N categories, since N-1 dummy variables can indicate the very last kind of dummy variable. However, Dummy Enocoding will increase the number of features.\n",
    "\n",
    "Q3 Gender,\n",
    "\n",
    "Q4 Country,\n",
    "\n",
    "Q5 Are you currently a student?,\n",
    "\n",
    "Q23 Title most similar to your current role,\n",
    "\n",
    "Q24 What industry is your current employer/contract,\n",
    "\n",
    "Q27 Does your current employer incorporate machine learning methods into their business?"
   ]
  },
  {
   "cell_type": "code",
   "execution_count": 23,
   "metadata": {},
   "outputs": [],
   "source": [
    "# Dummy for Q3 Gender\n",
    "gender = pd.get_dummies(data=df.Q3, prefix = 'Q3')\n",
    "df = pd.concat([df.drop(['Q3'], axis=1),gender], axis = 1)"
   ]
  },
  {
   "cell_type": "code",
   "execution_count": 24,
   "metadata": {},
   "outputs": [],
   "source": [
    "# Dummy for Q4 Country\n",
    "Country = pd.get_dummies(data = df.Q4, prefix = 'Q4')\n",
    "df = pd.concat([df.drop(['Q4'], axis=1), Country], axis = 1)"
   ]
  },
  {
   "cell_type": "code",
   "execution_count": 25,
   "metadata": {},
   "outputs": [],
   "source": [
    "# Dummy for Q5 Are you currently a student?\n",
    "currently_student = pd.get_dummies(data=df.Q5, prefix = 'Q5')\n",
    "df = pd.concat([df.drop(['Q5'], axis=1),currently_student], axis = 1)"
   ]
  },
  {
   "cell_type": "code",
   "execution_count": 26,
   "metadata": {},
   "outputs": [],
   "source": [
    "# Dummy for Q23 Title most similar to your current role\n",
    "title  = pd.get_dummies(data=df.Q23, prefix = 'Q23')\n",
    "df = pd.concat([df.drop(['Q23'], axis=1),title], axis = 1)"
   ]
  },
  {
   "cell_type": "code",
   "execution_count": 27,
   "metadata": {},
   "outputs": [],
   "source": [
    "# Dummy for Q24 What industry is your current employer/contract\n",
    "industry  = pd.get_dummies(data=df.Q24, prefix = 'Q24')\n",
    "df = pd.concat([df.drop(['Q24'], axis=1),industry], axis = 1)"
   ]
  },
  {
   "cell_type": "code",
   "execution_count": 28,
   "metadata": {},
   "outputs": [],
   "source": [
    "# Dummy for Q27 Does your current employer incorporate machine learning methods into their business?\n",
    "employer_machine  = pd.get_dummies(data=df.Q27, prefix = 'Q27')\n",
    "df = pd.concat([df.drop(['Q27'], axis=1),employer_machine], axis = 1)"
   ]
  },
  {
   "cell_type": "markdown",
   "metadata": {},
   "source": [
    "### Ordinal Data"
   ]
  },
  {
   "cell_type": "markdown",
   "metadata": {},
   "source": [
    "For the remaining features(columns) that are categorical and ordinal or have an inherent order, we use OrdinalEncoder for Q2, Q8, Q11, Q16, Q25, Q26, Q30. For these ordinal data, preserving the order is important. So the coding should reflect the order. In label encoding, each label is converted to an integer value. And for the encoding for each feature, I will create a variable that contains category values.\n",
    "\n",
    "Q2 Age\n",
    "\n",
    "Q8 Highest level of formal education\n",
    "\n",
    "Q11 Years writing code\n",
    "\n",
    "Q16 Years use machine learning\n",
    "\n",
    "Q25 Size of Company\n",
    "\n",
    "Q26 Number of responsibile for data\n",
    "\n",
    "Q30 Money spent on machine learning"
   ]
  },
  {
   "cell_type": "markdown",
   "metadata": {},
   "source": [
    "Encode for Q2 Age"
   ]
  },
  {
   "cell_type": "code",
   "execution_count": 29,
   "metadata": {},
   "outputs": [
    {
     "data": {
      "text/plain": [
       "25-29    1604\n",
       "30-34    1430\n",
       "35-39    1207\n",
       "40-44    1037\n",
       "22-24     743\n",
       "45-49     701\n",
       "50-54     567\n",
       "55-59     359\n",
       "60-69     341\n",
       "18-21      83\n",
       "70+        64\n",
       "Name: Q2, dtype: int64"
      ]
     },
     "execution_count": 29,
     "metadata": {},
     "output_type": "execute_result"
    }
   ],
   "source": [
    "df.Q2.value_counts()"
   ]
  },
  {
   "cell_type": "code",
   "execution_count": 30,
   "metadata": {},
   "outputs": [],
   "source": [
    "encoder_Q2= ce.OrdinalEncoder(cols=['Q2'], return_df=True,\n",
    "                           mapping=[{'col':'Q2',\n",
    "          'mapping':{'18-21':0,\n",
    "                     '22-24':1,\n",
    "                     '25-29':2,\n",
    "                     '30-34':3,\n",
    "                     '35-39':4,\n",
    "                     '40-44':5, \n",
    "                     '45-49':6, \n",
    "                     '50-54':7, \n",
    "                     '55-59':8, \n",
    "                     '60-69':9,\n",
    "                     '70+':10}}])\n",
    "Q2_encoding = encoder_Q2.fit_transform(df.Q2)\n",
    "df.Q2 = Q2_encoding"
   ]
  },
  {
   "cell_type": "markdown",
   "metadata": {},
   "source": [
    "Encode for Q8 Highest level of formal education"
   ]
  },
  {
   "cell_type": "code",
   "execution_count": 31,
   "metadata": {},
   "outputs": [
    {
     "data": {
      "text/plain": [
       "Master’s degree                                                      3567\n",
       "Bachelor’s degree                                                    2005\n",
       "Doctoral degree                                                      1349\n",
       "I prefer not to answer                                                426\n",
       "Some college/university study without earning a bachelor’s degree     304\n",
       "Professional doctorate                                                279\n",
       "No formal education past high school                                  206\n",
       "Name: Q8, dtype: int64"
      ]
     },
     "execution_count": 31,
     "metadata": {},
     "output_type": "execute_result"
    }
   ],
   "source": [
    "df.Q8.value_counts()"
   ]
  },
  {
   "cell_type": "code",
   "execution_count": 32,
   "metadata": {},
   "outputs": [],
   "source": [
    "encoder_Q8= ce.OrdinalEncoder(cols=['Q8'], return_df=True,\n",
    "                           mapping=[{'col':'Q8',\n",
    "          'mapping':{'I prefer not to answer':0,\n",
    "                     'No formal education past high school':1,\n",
    "                     'Some college/university study without earning a bachelor’s degree':2,\n",
    "                     'Bachelor’s degree':3,\n",
    "                     'Master’s degree':4,\n",
    "                     'Doctoral degree':5, \n",
    "                     'Professional doctorate': 6}}])\n",
    "Q8_encoding = encoder_Q8.fit_transform(df.Q8)\n",
    "df.Q8 = Q8_encoding"
   ]
  },
  {
   "cell_type": "markdown",
   "metadata": {},
   "source": [
    "Encode for Q11 Years writing code"
   ]
  },
  {
   "cell_type": "code",
   "execution_count": 33,
   "metadata": {},
   "outputs": [
    {
     "data": {
      "text/plain": [
       "1-3 years                    1468\n",
       "5-10 years                   1394\n",
       "3-5 years                    1243\n",
       "10-20 years                  1155\n",
       "< 1 years                    1148\n",
       "20+ years                    1044\n",
       "I have never written code     684\n",
       "Name: Q11, dtype: int64"
      ]
     },
     "execution_count": 33,
     "metadata": {},
     "output_type": "execute_result"
    }
   ],
   "source": [
    "df.Q11.value_counts()"
   ]
  },
  {
   "cell_type": "code",
   "execution_count": 34,
   "metadata": {},
   "outputs": [],
   "source": [
    "encoder_Q11= ce.OrdinalEncoder(cols=['Q11'], return_df=True,\n",
    "                           mapping=[{'col':'Q11',\n",
    "          'mapping':{'I have never written code':0,\n",
    "                     '< 1 years':1,\n",
    "                     '1-3 years':2,\n",
    "                     '3-5 years':3,\n",
    "                     '5-10 years':4,\n",
    "                     '10-20 years':5,\n",
    "                     '20+ years':6}}])\n",
    "Q11_encoding = encoder_Q11.fit_transform(df.Q11)\n",
    "df.Q11 = Q11_encoding"
   ]
  },
  {
   "cell_type": "markdown",
   "metadata": {},
   "source": [
    "Encode for Q16 Years use machine learning"
   ]
  },
  {
   "cell_type": "code",
   "execution_count": 35,
   "metadata": {},
   "outputs": [
    {
     "data": {
      "text/plain": [
       "Under 1 year                             2408\n",
       "1-2 years                                1266\n",
       "I do not use machine learning methods    1107\n",
       "2-3 years                                 955\n",
       "5-10 years                                808\n",
       "4-5 years                                 635\n",
       "3-4 years                                 591\n",
       "10-20 years                               366\n",
       "Name: Q16, dtype: int64"
      ]
     },
     "execution_count": 35,
     "metadata": {},
     "output_type": "execute_result"
    }
   ],
   "source": [
    "df.Q16.value_counts()"
   ]
  },
  {
   "cell_type": "code",
   "execution_count": 36,
   "metadata": {},
   "outputs": [],
   "source": [
    "encoder_Q16= ce.OrdinalEncoder(cols=['Q16'], return_df=True,\n",
    "                           mapping=[{'col':'Q16',\n",
    "          'mapping':{'I do not use machine learning methods':0,\n",
    "                     'Under 1 year':1,\n",
    "                     '1-2 years':2,\n",
    "                     '2-3 years':3,\n",
    "                     '3-4 years':4,\n",
    "                     '4-5 years':5,\n",
    "                     '5-10 years':6,\n",
    "                     '10-20 years':7}}])\n",
    "Q16_encoding = encoder_Q16.fit_transform(df.Q16)\n",
    "df.Q16 = Q16_encoding"
   ]
  },
  {
   "cell_type": "markdown",
   "metadata": {},
   "source": [
    "Encode for Q25 Size of Company"
   ]
  },
  {
   "cell_type": "code",
   "execution_count": 37,
   "metadata": {},
   "outputs": [
    {
     "data": {
      "text/plain": [
       "10,000 or more employees    1914\n",
       "0-49 employees              1859\n",
       "1000-9,999 employees        1711\n",
       "50-249 employees            1429\n",
       "250-999 employees           1223\n",
       "Name: Q25, dtype: int64"
      ]
     },
     "execution_count": 37,
     "metadata": {},
     "output_type": "execute_result"
    }
   ],
   "source": [
    "df.Q25.value_counts()"
   ]
  },
  {
   "cell_type": "code",
   "execution_count": 38,
   "metadata": {},
   "outputs": [],
   "source": [
    "encoder_Q25= ce.OrdinalEncoder(cols=['Q25'], return_df=True,\n",
    "                           mapping=[{'col':'Q25',\n",
    "          'mapping':{'0-49 employees':0,\n",
    "                     '50-249 employees':1,\n",
    "                     '250-999 employees':2,\n",
    "                     '1000-9,999 employees':3,\n",
    "                     '10,000 or more employees':4}}])\n",
    "Q25_encoding = encoder_Q25.fit_transform(df.Q25)\n",
    "df.Q25 = Q25_encoding"
   ]
  },
  {
   "cell_type": "markdown",
   "metadata": {},
   "source": [
    "Encode for Q26 Number of responsibile FOR data"
   ]
  },
  {
   "cell_type": "code",
   "execution_count": 39,
   "metadata": {},
   "outputs": [
    {
     "data": {
      "text/plain": [
       "20+      2061\n",
       "1-2      1658\n",
       "0        1298\n",
       "3-4      1257\n",
       "5-9      1029\n",
       "10-14     595\n",
       "15-19     238\n",
       "Name: Q26, dtype: int64"
      ]
     },
     "execution_count": 39,
     "metadata": {},
     "output_type": "execute_result"
    }
   ],
   "source": [
    "df.Q26.value_counts()"
   ]
  },
  {
   "cell_type": "code",
   "execution_count": 40,
   "metadata": {},
   "outputs": [],
   "source": [
    "encoder_Q26= ce.OrdinalEncoder(cols=['Q26'], return_df=True,\n",
    "                           mapping=[{'col':'Q26',\n",
    "          'mapping':{'0':0,\n",
    "                     '1-2':1,\n",
    "                     '3-4':2,\n",
    "                     '5-9':3,\n",
    "                     '10-14':4, \n",
    "                     '15-19':5, \n",
    "                     '20+':6}}])\n",
    "Q26_encoding = encoder_Q26.fit_transform(df.Q26)\n",
    "df.Q26 = Q26_encoding"
   ]
  },
  {
   "cell_type": "markdown",
   "metadata": {},
   "source": [
    "Encode for Q30 Money spent on machine learning"
   ]
  },
  {
   "cell_type": "code",
   "execution_count": 41,
   "metadata": {},
   "outputs": [
    {
     "data": {
      "text/plain": [
       "$0 ($USD)                  2703\n",
       "$100-$999                  1993\n",
       "$1000-$9,999               1412\n",
       "$1-$99                     1401\n",
       "$10,000-$99,999             453\n",
       "$100,000 or more ($USD)     174\n",
       "Name: Q30, dtype: int64"
      ]
     },
     "execution_count": 41,
     "metadata": {},
     "output_type": "execute_result"
    }
   ],
   "source": [
    "df.Q30.value_counts()"
   ]
  },
  {
   "cell_type": "code",
   "execution_count": 42,
   "metadata": {},
   "outputs": [],
   "source": [
    "encoder_Q30= ce.OrdinalEncoder(cols=['Q30'], return_df=True,\n",
    "                           mapping=[{'col':'Q30',\n",
    "          'mapping':{'$0 ($USD)':0,\n",
    "                     '$1-$99':1,\n",
    "                     '$100-$999':2,\n",
    "                     '$1000-$9,999':3,\n",
    "                     '$10,000-$99,999':4, \n",
    "                     '$100,000 or more ($USD)':5}}])\n",
    "Q30_encoding = encoder_Q30.fit_transform(df.Q30)\n",
    "df.Q30 = Q30_encoding"
   ]
  },
  {
   "cell_type": "code",
   "execution_count": 43,
   "metadata": {},
   "outputs": [
    {
     "data": {
      "text/html": [
       "<div>\n",
       "<style scoped>\n",
       "    .dataframe tbody tr th:only-of-type {\n",
       "        vertical-align: middle;\n",
       "    }\n",
       "\n",
       "    .dataframe tbody tr th {\n",
       "        vertical-align: top;\n",
       "    }\n",
       "\n",
       "    .dataframe thead th {\n",
       "        text-align: right;\n",
       "    }\n",
       "</style>\n",
       "<table border=\"1\" class=\"dataframe\">\n",
       "  <thead>\n",
       "    <tr style=\"text-align: right;\">\n",
       "      <th></th>\n",
       "      <th>Duration (in seconds)</th>\n",
       "      <th>Q2</th>\n",
       "      <th>Q8</th>\n",
       "      <th>Q11</th>\n",
       "      <th>Q16</th>\n",
       "      <th>Q25</th>\n",
       "      <th>Q26</th>\n",
       "      <th>Q29</th>\n",
       "      <th>Q30</th>\n",
       "      <th>Q29_Encoded</th>\n",
       "      <th>...</th>\n",
       "      <th>Q24_Online Service/Internet-based Services</th>\n",
       "      <th>Q24_Other</th>\n",
       "      <th>Q24_Retail/Sales</th>\n",
       "      <th>Q24_Shipping/Transportation</th>\n",
       "      <th>Q27_I do not know</th>\n",
       "      <th>Q27_No (we do not use ML methods)</th>\n",
       "      <th>Q27_We are exploring ML methods (and may one day put a model into production)</th>\n",
       "      <th>Q27_We have well established ML methods (i.e., models in production for more than 2 years)</th>\n",
       "      <th>Q27_We recently started using ML methods (i.e., models in production for less than 2 years)</th>\n",
       "      <th>Q27_We use ML methods for generating insights (but do not put working models into production)</th>\n",
       "    </tr>\n",
       "  </thead>\n",
       "  <tbody>\n",
       "    <tr>\n",
       "      <th>1</th>\n",
       "      <td>851</td>\n",
       "      <td>8</td>\n",
       "      <td>2</td>\n",
       "      <td>5</td>\n",
       "      <td>2</td>\n",
       "      <td>0</td>\n",
       "      <td>1</td>\n",
       "      <td>25,000-29,999</td>\n",
       "      <td>3</td>\n",
       "      <td>2.0</td>\n",
       "      <td>...</td>\n",
       "      <td>1</td>\n",
       "      <td>0</td>\n",
       "      <td>0</td>\n",
       "      <td>0</td>\n",
       "      <td>0</td>\n",
       "      <td>0</td>\n",
       "      <td>0</td>\n",
       "      <td>0</td>\n",
       "      <td>1</td>\n",
       "      <td>0</td>\n",
       "    </tr>\n",
       "    <tr>\n",
       "      <th>2</th>\n",
       "      <td>501</td>\n",
       "      <td>3</td>\n",
       "      <td>3</td>\n",
       "      <td>5</td>\n",
       "      <td>5</td>\n",
       "      <td>2</td>\n",
       "      <td>6</td>\n",
       "      <td>100,000-124,999</td>\n",
       "      <td>0</td>\n",
       "      <td>10.0</td>\n",
       "      <td>...</td>\n",
       "      <td>0</td>\n",
       "      <td>0</td>\n",
       "      <td>0</td>\n",
       "      <td>0</td>\n",
       "      <td>0</td>\n",
       "      <td>0</td>\n",
       "      <td>0</td>\n",
       "      <td>1</td>\n",
       "      <td>0</td>\n",
       "      <td>0</td>\n",
       "    </tr>\n",
       "    <tr>\n",
       "      <th>3</th>\n",
       "      <td>787</td>\n",
       "      <td>10</td>\n",
       "      <td>5</td>\n",
       "      <td>6</td>\n",
       "      <td>6</td>\n",
       "      <td>3</td>\n",
       "      <td>6</td>\n",
       "      <td>100,000-124,999</td>\n",
       "      <td>2</td>\n",
       "      <td>10.0</td>\n",
       "      <td>...</td>\n",
       "      <td>0</td>\n",
       "      <td>0</td>\n",
       "      <td>0</td>\n",
       "      <td>0</td>\n",
       "      <td>0</td>\n",
       "      <td>0</td>\n",
       "      <td>0</td>\n",
       "      <td>0</td>\n",
       "      <td>1</td>\n",
       "      <td>0</td>\n",
       "    </tr>\n",
       "    <tr>\n",
       "      <th>4</th>\n",
       "      <td>1132</td>\n",
       "      <td>5</td>\n",
       "      <td>5</td>\n",
       "      <td>5</td>\n",
       "      <td>6</td>\n",
       "      <td>3</td>\n",
       "      <td>6</td>\n",
       "      <td>200,000-249,999</td>\n",
       "      <td>2</td>\n",
       "      <td>13.0</td>\n",
       "      <td>...</td>\n",
       "      <td>0</td>\n",
       "      <td>0</td>\n",
       "      <td>0</td>\n",
       "      <td>0</td>\n",
       "      <td>0</td>\n",
       "      <td>0</td>\n",
       "      <td>0</td>\n",
       "      <td>1</td>\n",
       "      <td>0</td>\n",
       "      <td>0</td>\n",
       "    </tr>\n",
       "    <tr>\n",
       "      <th>5</th>\n",
       "      <td>679</td>\n",
       "      <td>5</td>\n",
       "      <td>4</td>\n",
       "      <td>5</td>\n",
       "      <td>6</td>\n",
       "      <td>3</td>\n",
       "      <td>2</td>\n",
       "      <td>200,000-249,999</td>\n",
       "      <td>5</td>\n",
       "      <td>13.0</td>\n",
       "      <td>...</td>\n",
       "      <td>0</td>\n",
       "      <td>0</td>\n",
       "      <td>0</td>\n",
       "      <td>0</td>\n",
       "      <td>0</td>\n",
       "      <td>0</td>\n",
       "      <td>0</td>\n",
       "      <td>1</td>\n",
       "      <td>0</td>\n",
       "      <td>0</td>\n",
       "    </tr>\n",
       "    <tr>\n",
       "      <th>...</th>\n",
       "      <td>...</td>\n",
       "      <td>...</td>\n",
       "      <td>...</td>\n",
       "      <td>...</td>\n",
       "      <td>...</td>\n",
       "      <td>...</td>\n",
       "      <td>...</td>\n",
       "      <td>...</td>\n",
       "      <td>...</td>\n",
       "      <td>...</td>\n",
       "      <td>...</td>\n",
       "      <td>...</td>\n",
       "      <td>...</td>\n",
       "      <td>...</td>\n",
       "      <td>...</td>\n",
       "      <td>...</td>\n",
       "      <td>...</td>\n",
       "      <td>...</td>\n",
       "      <td>...</td>\n",
       "      <td>...</td>\n",
       "      <td>...</td>\n",
       "    </tr>\n",
       "    <tr>\n",
       "      <th>8132</th>\n",
       "      <td>540</td>\n",
       "      <td>5</td>\n",
       "      <td>4</td>\n",
       "      <td>5</td>\n",
       "      <td>1</td>\n",
       "      <td>4</td>\n",
       "      <td>6</td>\n",
       "      <td>100,000-124,999</td>\n",
       "      <td>0</td>\n",
       "      <td>10.0</td>\n",
       "      <td>...</td>\n",
       "      <td>0</td>\n",
       "      <td>0</td>\n",
       "      <td>0</td>\n",
       "      <td>0</td>\n",
       "      <td>0</td>\n",
       "      <td>0</td>\n",
       "      <td>0</td>\n",
       "      <td>1</td>\n",
       "      <td>0</td>\n",
       "      <td>0</td>\n",
       "    </tr>\n",
       "    <tr>\n",
       "      <th>8133</th>\n",
       "      <td>603</td>\n",
       "      <td>4</td>\n",
       "      <td>4</td>\n",
       "      <td>2</td>\n",
       "      <td>2</td>\n",
       "      <td>4</td>\n",
       "      <td>1</td>\n",
       "      <td>2,000-2,999</td>\n",
       "      <td>2</td>\n",
       "      <td>0.0</td>\n",
       "      <td>...</td>\n",
       "      <td>0</td>\n",
       "      <td>0</td>\n",
       "      <td>0</td>\n",
       "      <td>0</td>\n",
       "      <td>0</td>\n",
       "      <td>0</td>\n",
       "      <td>0</td>\n",
       "      <td>1</td>\n",
       "      <td>0</td>\n",
       "      <td>0</td>\n",
       "    </tr>\n",
       "    <tr>\n",
       "      <th>8134</th>\n",
       "      <td>557</td>\n",
       "      <td>5</td>\n",
       "      <td>3</td>\n",
       "      <td>2</td>\n",
       "      <td>0</td>\n",
       "      <td>0</td>\n",
       "      <td>0</td>\n",
       "      <td>$0-999</td>\n",
       "      <td>1</td>\n",
       "      <td>0.0</td>\n",
       "      <td>...</td>\n",
       "      <td>0</td>\n",
       "      <td>0</td>\n",
       "      <td>0</td>\n",
       "      <td>0</td>\n",
       "      <td>0</td>\n",
       "      <td>1</td>\n",
       "      <td>0</td>\n",
       "      <td>0</td>\n",
       "      <td>0</td>\n",
       "      <td>0</td>\n",
       "    </tr>\n",
       "    <tr>\n",
       "      <th>8135</th>\n",
       "      <td>860</td>\n",
       "      <td>2</td>\n",
       "      <td>4</td>\n",
       "      <td>1</td>\n",
       "      <td>1</td>\n",
       "      <td>4</td>\n",
       "      <td>0</td>\n",
       "      <td>25,000-29,999</td>\n",
       "      <td>2</td>\n",
       "      <td>2.0</td>\n",
       "      <td>...</td>\n",
       "      <td>0</td>\n",
       "      <td>0</td>\n",
       "      <td>0</td>\n",
       "      <td>0</td>\n",
       "      <td>0</td>\n",
       "      <td>1</td>\n",
       "      <td>0</td>\n",
       "      <td>0</td>\n",
       "      <td>0</td>\n",
       "      <td>0</td>\n",
       "    </tr>\n",
       "    <tr>\n",
       "      <th>8136</th>\n",
       "      <td>597</td>\n",
       "      <td>4</td>\n",
       "      <td>5</td>\n",
       "      <td>3</td>\n",
       "      <td>1</td>\n",
       "      <td>0</td>\n",
       "      <td>0</td>\n",
       "      <td>15,000-19,999</td>\n",
       "      <td>0</td>\n",
       "      <td>1.0</td>\n",
       "      <td>...</td>\n",
       "      <td>0</td>\n",
       "      <td>0</td>\n",
       "      <td>0</td>\n",
       "      <td>0</td>\n",
       "      <td>0</td>\n",
       "      <td>0</td>\n",
       "      <td>0</td>\n",
       "      <td>0</td>\n",
       "      <td>1</td>\n",
       "      <td>0</td>\n",
       "    </tr>\n",
       "  </tbody>\n",
       "</table>\n",
       "<p>8136 rows × 110 columns</p>\n",
       "</div>"
      ],
      "text/plain": [
       "     Duration (in seconds)  Q2  Q8  Q11  Q16  Q25  Q26              Q29  Q30  \\\n",
       "1                      851   8   2    5    2    0    1    25,000-29,999    3   \n",
       "2                      501   3   3    5    5    2    6  100,000-124,999    0   \n",
       "3                      787  10   5    6    6    3    6  100,000-124,999    2   \n",
       "4                     1132   5   5    5    6    3    6  200,000-249,999    2   \n",
       "5                      679   5   4    5    6    3    2  200,000-249,999    5   \n",
       "...                    ...  ..  ..  ...  ...  ...  ...              ...  ...   \n",
       "8132                   540   5   4    5    1    4    6  100,000-124,999    0   \n",
       "8133                   603   4   4    2    2    4    1      2,000-2,999    2   \n",
       "8134                   557   5   3    2    0    0    0           $0-999    1   \n",
       "8135                   860   2   4    1    1    4    0    25,000-29,999    2   \n",
       "8136                   597   4   5    3    1    0    0    15,000-19,999    0   \n",
       "\n",
       "      Q29_Encoded  ... Q24_Online Service/Internet-based Services  Q24_Other  \\\n",
       "1             2.0  ...                                          1          0   \n",
       "2            10.0  ...                                          0          0   \n",
       "3            10.0  ...                                          0          0   \n",
       "4            13.0  ...                                          0          0   \n",
       "5            13.0  ...                                          0          0   \n",
       "...           ...  ...                                        ...        ...   \n",
       "8132         10.0  ...                                          0          0   \n",
       "8133          0.0  ...                                          0          0   \n",
       "8134          0.0  ...                                          0          0   \n",
       "8135          2.0  ...                                          0          0   \n",
       "8136          1.0  ...                                          0          0   \n",
       "\n",
       "      Q24_Retail/Sales  Q24_Shipping/Transportation  Q27_I do not know  \\\n",
       "1                    0                            0                  0   \n",
       "2                    0                            0                  0   \n",
       "3                    0                            0                  0   \n",
       "4                    0                            0                  0   \n",
       "5                    0                            0                  0   \n",
       "...                ...                          ...                ...   \n",
       "8132                 0                            0                  0   \n",
       "8133                 0                            0                  0   \n",
       "8134                 0                            0                  0   \n",
       "8135                 0                            0                  0   \n",
       "8136                 0                            0                  0   \n",
       "\n",
       "      Q27_No (we do not use ML methods)  \\\n",
       "1                                     0   \n",
       "2                                     0   \n",
       "3                                     0   \n",
       "4                                     0   \n",
       "5                                     0   \n",
       "...                                 ...   \n",
       "8132                                  0   \n",
       "8133                                  0   \n",
       "8134                                  1   \n",
       "8135                                  1   \n",
       "8136                                  0   \n",
       "\n",
       "      Q27_We are exploring ML methods (and may one day put a model into production)  \\\n",
       "1                                                     0                               \n",
       "2                                                     0                               \n",
       "3                                                     0                               \n",
       "4                                                     0                               \n",
       "5                                                     0                               \n",
       "...                                                 ...                               \n",
       "8132                                                  0                               \n",
       "8133                                                  0                               \n",
       "8134                                                  0                               \n",
       "8135                                                  0                               \n",
       "8136                                                  0                               \n",
       "\n",
       "      Q27_We have well established ML methods (i.e., models in production for more than 2 years)  \\\n",
       "1                                                     0                                            \n",
       "2                                                     1                                            \n",
       "3                                                     0                                            \n",
       "4                                                     1                                            \n",
       "5                                                     1                                            \n",
       "...                                                 ...                                            \n",
       "8132                                                  1                                            \n",
       "8133                                                  1                                            \n",
       "8134                                                  0                                            \n",
       "8135                                                  0                                            \n",
       "8136                                                  0                                            \n",
       "\n",
       "      Q27_We recently started using ML methods (i.e., models in production for less than 2 years)  \\\n",
       "1                                                     1                                             \n",
       "2                                                     0                                             \n",
       "3                                                     1                                             \n",
       "4                                                     0                                             \n",
       "5                                                     0                                             \n",
       "...                                                 ...                                             \n",
       "8132                                                  0                                             \n",
       "8133                                                  0                                             \n",
       "8134                                                  0                                             \n",
       "8135                                                  0                                             \n",
       "8136                                                  1                                             \n",
       "\n",
       "      Q27_We use ML methods for generating insights (but do not put working models into production)  \n",
       "1                                                     0                                              \n",
       "2                                                     0                                              \n",
       "3                                                     0                                              \n",
       "4                                                     0                                              \n",
       "5                                                     0                                              \n",
       "...                                                 ...                                              \n",
       "8132                                                  0                                              \n",
       "8133                                                  0                                              \n",
       "8134                                                  0                                              \n",
       "8135                                                  0                                              \n",
       "8136                                                  0                                              \n",
       "\n",
       "[8136 rows x 110 columns]"
      ]
     },
     "execution_count": 43,
     "metadata": {},
     "output_type": "execute_result"
    }
   ],
   "source": [
    "df"
   ]
  },
  {
   "cell_type": "markdown",
   "metadata": {},
   "source": [
    "# Exploratory data analysis and feature selection"
   ]
  },
  {
   "cell_type": "markdown",
   "metadata": {},
   "source": [
    "Feature Engineering is the process that use domain knowledge to extract and organize the important features from the raw data. Its goal is to improve the model accuracy and the machine learning result by using these extracted features to train the machine learning model. The extracted features that are selected fit the purpose of the machine learning model. \n",
    "\n",
    "\n",
    "With using of extracted features by feature engineering in machine learning, it helps enhance the efficiency of the model, make easier algorithms that fit the data, make easier for algorithms to detect patterns in the data and have greater flexibility of the features.\n",
    "\n",
    "For our problem, feature engineering help us to select features that are important with high feature importance and correlation with feature yearly compensation. So that we can build better model by selected features and predict with good results."
   ]
  },
  {
   "cell_type": "markdown",
   "metadata": {},
   "source": [
    "## Regularized Regression"
   ]
  },
  {
   "cell_type": "code",
   "execution_count": 44,
   "metadata": {},
   "outputs": [],
   "source": [
    "df_Q29 = pd.concat([df.Q29, df.Q29_buckets], axis=1)\n",
    "df.drop(['Q29', 'Q29_buckets'], axis=1, inplace=True)"
   ]
  },
  {
   "cell_type": "code",
   "execution_count": 45,
   "metadata": {},
   "outputs": [],
   "source": [
    "X = df.drop(['Q29_Encoded'], axis=1)\n",
    "Y = df.Q29_Encoded"
   ]
  },
  {
   "cell_type": "code",
   "execution_count": 46,
   "metadata": {},
   "outputs": [],
   "source": [
    "# Split Data\n",
    "X_train, X_test, Y_train, Y_test = train_test_split(X, Y, test_size=0.3, random_state=21)"
   ]
  },
  {
   "cell_type": "markdown",
   "metadata": {},
   "source": [
    "Some machine learning models are based on the Euclidean Distances. As a result, different scales by different features will lead to bias. The greater the scale is, the greater impact it has on the model and the result.\n",
    "So, in order to avoid the bias that different scales generate, we can apply scaling on the data. So that all the features have the same scale."
   ]
  },
  {
   "cell_type": "code",
   "execution_count": 47,
   "metadata": {},
   "outputs": [],
   "source": [
    "# Normalization data\n",
    "scaler = StandardScaler()\n",
    "X_train_normalized = scaler.fit(X_train).transform(X_train)\n",
    "X_test_normalized = scaler.fit(X_train).transform(X_test)"
   ]
  },
  {
   "cell_type": "markdown",
   "metadata": {},
   "source": [
    "## Lasso Regularization to feature selection"
   ]
  },
  {
   "cell_type": "markdown",
   "metadata": {},
   "source": [
    "We use Lasso Regularization method to find the relationships between a feature and yearly compensation. To find the best one, we use Gridsearch to find the best alpha value. "
   ]
  },
  {
   "cell_type": "code",
   "execution_count": 48,
   "metadata": {},
   "outputs": [
    {
     "name": "stdout",
     "output_type": "stream",
     "text": [
      "Lasso(alpha=0.1, random_state=21)\n"
     ]
    }
   ],
   "source": [
    "# Use Lasso and find the best parameter value by using Gridsearch\n",
    "reg = linear_model.Lasso(random_state=21)\n",
    "# Parameter set to test\n",
    "parameter_set = {'alpha':[0.1,10,1]}\n",
    "# Gridsearch\n",
    "score = make_scorer(r2_score)\n",
    "grid = GridSearchCV(reg, parameter_set, scoring = score)\n",
    "grid = grid.fit(X_train,Y_train)\n",
    "# Select the one with best parameters\n",
    "reg_best_grid = grid.best_estimator_\n",
    "\n",
    "# Print the best one with corresponding paramter values\n",
    "print(reg_best_grid)"
   ]
  },
  {
   "cell_type": "code",
   "execution_count": 49,
   "metadata": {},
   "outputs": [
    {
     "data": {
      "text/plain": [
       "0.5364549325914263"
      ]
     },
     "execution_count": 49,
     "metadata": {},
     "output_type": "execute_result"
    }
   ],
   "source": [
    "reg_best_grid.score(X_train,Y_train)"
   ]
  },
  {
   "cell_type": "markdown",
   "metadata": {},
   "source": [
    "After we find the best alpha value, we get the best model. Now we can compute the feature importance for each feature."
   ]
  },
  {
   "cell_type": "code",
   "execution_count": 50,
   "metadata": {},
   "outputs": [
    {
     "name": "stdout",
     "output_type": "stream",
     "text": [
      "[-6.56428137e-07  1.79965555e-01  6.48110586e-02  3.42679510e-01\n",
      "  2.71998246e-01  1.09583677e-01  1.75268641e-01  3.84707326e-01\n",
      "  0.00000000e+00  0.00000000e+00  0.00000000e+00 -0.00000000e+00\n",
      " -0.00000000e+00 -0.00000000e+00 -0.00000000e+00  0.00000000e+00\n",
      " -0.00000000e+00  0.00000000e+00 -0.00000000e+00 -0.00000000e+00\n",
      "  0.00000000e+00 -0.00000000e+00  0.00000000e+00 -0.00000000e+00\n",
      " -0.00000000e+00 -0.00000000e+00 -0.00000000e+00 -0.00000000e+00\n",
      "  0.00000000e+00  0.00000000e+00 -0.00000000e+00  0.00000000e+00\n",
      " -0.00000000e+00 -6.72531735e-01 -0.00000000e+00 -0.00000000e+00\n",
      "  0.00000000e+00  0.00000000e+00 -0.00000000e+00  0.00000000e+00\n",
      " -0.00000000e+00 -0.00000000e+00 -0.00000000e+00 -0.00000000e+00\n",
      "  0.00000000e+00  0.00000000e+00 -0.00000000e+00 -0.00000000e+00\n",
      " -0.00000000e+00 -0.00000000e+00 -0.00000000e+00  0.00000000e+00\n",
      "  0.00000000e+00 -0.00000000e+00 -0.00000000e+00  0.00000000e+00\n",
      "  0.00000000e+00 -0.00000000e+00  0.00000000e+00  0.00000000e+00\n",
      " -0.00000000e+00 -0.00000000e+00 -0.00000000e+00 -0.00000000e+00\n",
      " -0.00000000e+00 -0.00000000e+00  0.00000000e+00  0.00000000e+00\n",
      "  4.79713441e+00 -0.00000000e+00  0.00000000e+00  0.00000000e+00\n",
      " -0.00000000e+00 -0.00000000e+00  0.00000000e+00 -0.00000000e+00\n",
      "  0.00000000e+00 -0.00000000e+00 -0.00000000e+00 -0.00000000e+00\n",
      "  3.84222758e-01  0.00000000e+00 -0.00000000e+00  0.00000000e+00\n",
      " -0.00000000e+00 -0.00000000e+00 -6.72320978e-01  0.00000000e+00\n",
      "  0.00000000e+00 -0.00000000e+00  0.00000000e+00 -0.00000000e+00\n",
      "  0.00000000e+00  0.00000000e+00 -0.00000000e+00  0.00000000e+00\n",
      " -0.00000000e+00  0.00000000e+00  0.00000000e+00  0.00000000e+00\n",
      "  0.00000000e+00 -0.00000000e+00 -0.00000000e+00 -0.00000000e+00\n",
      "  1.85868243e-01  0.00000000e+00  0.00000000e+00]\n"
     ]
    }
   ],
   "source": [
    "# Feature importance\n",
    "feature_importance = reg_best_grid.coef_\n",
    "print(feature_importance)"
   ]
  },
  {
   "cell_type": "markdown",
   "metadata": {},
   "source": [
    "Use the feature importance to select the features that are kept and dropped.\n",
    "\n",
    "Drop the column with 0 value of feature importance.\n",
    "\n",
    "Keep the column with non-zero value of feature importance.\n",
    "\n",
    "Also, drop the column that with 0 value of feature importance for train and test data."
   ]
  },
  {
   "cell_type": "code",
   "execution_count": 51,
   "metadata": {},
   "outputs": [],
   "source": [
    "drop_list = []\n",
    "drop_index = []\n",
    "keep_list = []\n",
    "keep_index = []\n",
    "feature_importance_selected = []\n",
    "\n",
    "X_selected = X\n",
    "X_train_selected = X_train\n",
    "X_test_selected = X_test\n",
    "\n",
    "for i in range(len(feature_importance)):\n",
    "    if feature_importance[i] == 0:\n",
    "        drop_list.append(X.columns[i])\n",
    "        drop_index.append(i)\n",
    "        X_selected = X_selected.drop([X.columns[i]], axis = 1)\n",
    "        X_train_selected = X_train_selected.drop([X.columns[i]], axis = 1)\n",
    "        X_test_selected = X_test_selected.drop([X.columns[i]], axis = 1)\n",
    "    else:\n",
    "        keep_list.append(X.columns[i]) \n",
    "        keep_index.append(i)\n",
    "        feature_importance_selected.append(feature_importance[i])"
   ]
  },
  {
   "cell_type": "code",
   "execution_count": 52,
   "metadata": {},
   "outputs": [
    {
     "name": "stdout",
     "output_type": "stream",
     "text": [
      "-6.564281367492947e-07\n"
     ]
    }
   ],
   "source": [
    "# Feature importance of 'Duration (in seconds)'\n",
    "print(feature_importance[0])"
   ]
  },
  {
   "cell_type": "markdown",
   "metadata": {},
   "source": [
    "We can find that the feature importance for the first feature 'Duration (in seconds)' is -6.564281367492947e-07. It's very small and almost nearly 0. So we can say that this feature actually not really has a great relationship with the yearly compensation. So we can dropped it."
   ]
  },
  {
   "cell_type": "code",
   "execution_count": 53,
   "metadata": {},
   "outputs": [],
   "source": [
    "X_selected.drop(['Duration (in seconds)'], axis=1, inplace=True)\n",
    "X_train_selected.drop(['Duration (in seconds)'], axis=1, inplace=True)\n",
    "X_test_selected.drop(['Duration (in seconds)'], axis=1, inplace=True)"
   ]
  },
  {
   "cell_type": "code",
   "execution_count": 54,
   "metadata": {},
   "outputs": [
    {
     "name": "stdout",
     "output_type": "stream",
     "text": [
      "Number of dropped feature: 95\n",
      "(8136, 12)\n",
      "Index(['Q2', 'Q8', 'Q11', 'Q16', 'Q25', 'Q26', 'Q30', 'Q4_India',\n",
      "       'Q4_United States of America',\n",
      "       'Q23_Manager (Program, Project, Operations, Executive-level, etc)',\n",
      "       'Q24_Academics/Education',\n",
      "       'Q27_We have well established ML methods (i.e., models in production for more than 2 years)'],\n",
      "      dtype='object')\n"
     ]
    }
   ],
   "source": [
    "print('Number of dropped feature:',len(drop_list)+1)\n",
    "print(X_selected.shape)\n",
    "print(X_selected.columns)"
   ]
  },
  {
   "cell_type": "code",
   "execution_count": 55,
   "metadata": {},
   "outputs": [
    {
     "name": "stdout",
     "output_type": "stream",
     "text": [
      "Number of kept feature 12\n"
     ]
    }
   ],
   "source": [
    "keep_list.remove('Duration (in seconds)')\n",
    "keep_index.remove(keep_index[0])\n",
    "feature_importance_selected.remove(feature_importance_selected[0])\n",
    "\n",
    "print('Number of kept feature', len(keep_index))"
   ]
  },
  {
   "cell_type": "markdown",
   "metadata": {},
   "source": [
    "These are the columns that we kept now:\n",
    "\n",
    "Q2 What is your age (# years)?\n",
    "\n",
    "Q4 In which country do you currently reside?\n",
    "\n",
    "Q8 What is the highest level of formal education that you have attained or plan to attain within the next 2 years?\n",
    "\n",
    "Q11 For how many years have you been writing code and/or programming?\n",
    "\n",
    "Q16 For how many years have you used machine learning methods?\n",
    "\n",
    "Q23 Select the title most similar to your current role (or most recent title if retired): - Selected Choice\n",
    "\n",
    "Q24 In what industry is your current employer/contract (or your most recent employer if retired)? - Selected Choice\n",
    "\n",
    "Q25 What is the size of the company where you are employed?\n",
    "\n",
    "Q26 Approximately how many individuals are responsible for data science workloads at your place of business?\n",
    "\n",
    "Q27 Does your current employer incorporate machine learning methods into their business?\n",
    "\n",
    "Q30 Approximately how much money have you spent on machine learning and/or cloud computing services at home or at work in the past 5 years (approximate $USD)?\n",
    " (approximate $USD)?"
   ]
  },
  {
   "cell_type": "markdown",
   "metadata": {},
   "source": [
    "## Exploratory data analysis"
   ]
  },
  {
   "cell_type": "markdown",
   "metadata": {},
   "source": [
    "### Visualize the order of feature importance"
   ]
  },
  {
   "cell_type": "markdown",
   "metadata": {},
   "source": [
    "After the encoding and select the most important features by feature selection, now we do exploratory data analysis."
   ]
  },
  {
   "cell_type": "code",
   "execution_count": 56,
   "metadata": {},
   "outputs": [
    {
     "data": {
      "text/plain": [
       "([<matplotlib.axis.XTick at 0x7f97a8566a30>,\n",
       "  <matplotlib.axis.XTick at 0x7f97a8566a00>,\n",
       "  <matplotlib.axis.XTick at 0x7f97a6b7fc70>,\n",
       "  <matplotlib.axis.XTick at 0x7f97a6685640>,\n",
       "  <matplotlib.axis.XTick at 0x7f97a6685b50>,\n",
       "  <matplotlib.axis.XTick at 0x7f97a66940a0>,\n",
       "  <matplotlib.axis.XTick at 0x7f97a66945b0>,\n",
       "  <matplotlib.axis.XTick at 0x7f97a6694ac0>,\n",
       "  <matplotlib.axis.XTick at 0x7f97a6694fd0>,\n",
       "  <matplotlib.axis.XTick at 0x7f97a669a520>,\n",
       "  <matplotlib.axis.XTick at 0x7f97a669aa30>,\n",
       "  <matplotlib.axis.XTick at 0x7f97a6694130>],\n",
       " [Text(0, 0, '1'),\n",
       "  Text(1, 0, '2'),\n",
       "  Text(2, 0, '3'),\n",
       "  Text(3, 0, '4'),\n",
       "  Text(4, 0, '5'),\n",
       "  Text(5, 0, '6'),\n",
       "  Text(6, 0, '7'),\n",
       "  Text(7, 0, '33'),\n",
       "  Text(8, 0, '68'),\n",
       "  Text(9, 0, '80'),\n",
       "  Text(10, 0, '86'),\n",
       "  Text(11, 0, '104')])"
      ]
     },
     "execution_count": 56,
     "metadata": {},
     "output_type": "execute_result"
    },
    {
     "data": {
      "image/png": "[encoded data removed]",
      "text/plain": [
       "<Figure size 432x288 with 1 Axes>"
      ]
     },
     "metadata": {
      "needs_background": "light"
     },
     "output_type": "display_data"
    }
   ],
   "source": [
    "# Plot the feature importance\n",
    "plt.bar(range(len(feature_importance_selected)),feature_importance_selected)\n",
    "plt.xlabel('feature number', fontsize=14)\n",
    "plt.ylabel('feature importance', fontsize=14)\n",
    "plt.xticks(range(len(feature_importance_selected)), keep_index)"
   ]
  },
  {
   "cell_type": "code",
   "execution_count": 57,
   "metadata": {},
   "outputs": [
    {
     "data": {
      "text/html": [
       "<div>\n",
       "<style scoped>\n",
       "    .dataframe tbody tr th:only-of-type {\n",
       "        vertical-align: middle;\n",
       "    }\n",
       "\n",
       "    .dataframe tbody tr th {\n",
       "        vertical-align: top;\n",
       "    }\n",
       "\n",
       "    .dataframe thead th {\n",
       "        text-align: right;\n",
       "    }\n",
       "</style>\n",
       "<table border=\"1\" class=\"dataframe\">\n",
       "  <thead>\n",
       "    <tr style=\"text-align: right;\">\n",
       "      <th></th>\n",
       "      <th>importance</th>\n",
       "      <th>feature number</th>\n",
       "    </tr>\n",
       "  </thead>\n",
       "  <tbody>\n",
       "    <tr>\n",
       "      <th>7</th>\n",
       "      <td>-0.672532</td>\n",
       "      <td>33</td>\n",
       "    </tr>\n",
       "    <tr>\n",
       "      <th>10</th>\n",
       "      <td>-0.672321</td>\n",
       "      <td>86</td>\n",
       "    </tr>\n",
       "    <tr>\n",
       "      <th>1</th>\n",
       "      <td>0.064811</td>\n",
       "      <td>2</td>\n",
       "    </tr>\n",
       "    <tr>\n",
       "      <th>4</th>\n",
       "      <td>0.109584</td>\n",
       "      <td>5</td>\n",
       "    </tr>\n",
       "    <tr>\n",
       "      <th>5</th>\n",
       "      <td>0.175269</td>\n",
       "      <td>6</td>\n",
       "    </tr>\n",
       "    <tr>\n",
       "      <th>0</th>\n",
       "      <td>0.179966</td>\n",
       "      <td>1</td>\n",
       "    </tr>\n",
       "    <tr>\n",
       "      <th>11</th>\n",
       "      <td>0.185868</td>\n",
       "      <td>104</td>\n",
       "    </tr>\n",
       "    <tr>\n",
       "      <th>3</th>\n",
       "      <td>0.271998</td>\n",
       "      <td>4</td>\n",
       "    </tr>\n",
       "    <tr>\n",
       "      <th>2</th>\n",
       "      <td>0.342680</td>\n",
       "      <td>3</td>\n",
       "    </tr>\n",
       "    <tr>\n",
       "      <th>9</th>\n",
       "      <td>0.384223</td>\n",
       "      <td>80</td>\n",
       "    </tr>\n",
       "    <tr>\n",
       "      <th>6</th>\n",
       "      <td>0.384707</td>\n",
       "      <td>7</td>\n",
       "    </tr>\n",
       "    <tr>\n",
       "      <th>8</th>\n",
       "      <td>4.797134</td>\n",
       "      <td>68</td>\n",
       "    </tr>\n",
       "  </tbody>\n",
       "</table>\n",
       "</div>"
      ],
      "text/plain": [
       "    importance  feature number\n",
       "7    -0.672532              33\n",
       "10   -0.672321              86\n",
       "1     0.064811               2\n",
       "4     0.109584               5\n",
       "5     0.175269               6\n",
       "0     0.179966               1\n",
       "11    0.185868             104\n",
       "3     0.271998               4\n",
       "2     0.342680               3\n",
       "9     0.384223              80\n",
       "6     0.384707               7\n",
       "8     4.797134              68"
      ]
     },
     "execution_count": 57,
     "metadata": {},
     "output_type": "execute_result"
    }
   ],
   "source": [
    "feature_importance_selected_list = pd.DataFrame({'importance':feature_importance_selected, 'feature number': keep_index})\n",
    "feature_importance_selected_list.sort_values(by=['importance'])"
   ]
  },
  {
   "cell_type": "code",
   "execution_count": 58,
   "metadata": {},
   "outputs": [
    {
     "name": "stdout",
     "output_type": "stream",
     "text": [
      "Q4_United States of America 4.79713440964163\n",
      "Q8 0.06481105858665537\n"
     ]
    }
   ],
   "source": [
    "print(X.columns[68], feature_importance[68])\n",
    "print(X.columns[2], feature_importance[2])"
   ]
  },
  {
   "cell_type": "code",
   "execution_count": 59,
   "metadata": {},
   "outputs": [
    {
     "data": {
      "text/plain": [
       "True"
      ]
     },
     "execution_count": 59,
     "metadata": {},
     "output_type": "execute_result"
    }
   ],
   "source": [
    "feature_importance[33] < feature_importance[86]"
   ]
  },
  {
   "cell_type": "code",
   "execution_count": 60,
   "metadata": {},
   "outputs": [
    {
     "name": "stdout",
     "output_type": "stream",
     "text": [
      "Q4_India -0.6725317351516281\n",
      "Q24_Academics/Education -0.672320977505366\n"
     ]
    }
   ],
   "source": [
    "print(X.columns[33], feature_importance[33])\n",
    "print(X.columns[86], feature_importance[86])"
   ]
  },
  {
   "cell_type": "markdown",
   "metadata": {},
   "source": [
    "### Corrleation"
   ]
  },
  {
   "cell_type": "markdown",
   "metadata": {},
   "source": [
    "We can also use Heatmap to look at the correlation between the features and the survey respondent’s yearly compensation."
   ]
  },
  {
   "cell_type": "markdown",
   "metadata": {},
   "source": [
    "We can mask the upper right triangle as they are identical to the lower left triangle. The diagonal also is irrelevant as its the correlation of a feature with itself, which correlation is equal to 1."
   ]
  },
  {
   "cell_type": "code",
   "execution_count": 61,
   "metadata": {},
   "outputs": [
    {
     "data": {
      "text/plain": [
       "<AxesSubplot:>"
      ]
     },
     "execution_count": 61,
     "metadata": {},
     "output_type": "execute_result"
    },
    {
     "data": {
      "image/png": "[encoded data removed]",
      "text/plain": [
       "<Figure size 720x720 with 2 Axes>"
      ]
     },
     "metadata": {
      "needs_background": "light"
     },
     "output_type": "display_data"
    }
   ],
   "source": [
    "X_selected_Q29encoded = pd.concat([X_selected, df.Q29_Encoded], axis = 1)\n",
    "mask = np.zeros_like(X_selected_Q29encoded.corr())\n",
    "mask[np.triu_indices_from(mask)] = True\n",
    "plt.figure(figsize = (10,10))\n",
    "sns.heatmap(X_selected_Q29encoded.corr(),mask = mask, annot = True)"
   ]
  },
  {
   "cell_type": "code",
   "execution_count": 62,
   "metadata": {},
   "outputs": [
    {
     "data": {
      "text/plain": [
       "Q4_India                                                                                     -0.339819\n",
       "Q24_Academics/Education                                                                      -0.130247\n",
       "Q8                                                                                            0.165013\n",
       "Q25                                                                                           0.165711\n",
       "Q23_Manager (Program, Project, Operations, Executive-level, etc)                              0.171829\n",
       "Q26                                                                                           0.255693\n",
       "Q27_We have well established ML methods (i.e., models in production for more than 2 years)    0.286738\n",
       "Q30                                                                                           0.297743\n",
       "Q2                                                                                            0.315812\n",
       "Q16                                                                                           0.385459\n",
       "Q11                                                                                           0.406746\n",
       "Q4_United States of America                                                                   0.584453\n",
       "Q29_Encoded                                                                                   1.000000\n",
       "Name: Q29_Encoded, dtype: float64"
      ]
     },
     "execution_count": 62,
     "metadata": {},
     "output_type": "execute_result"
    }
   ],
   "source": [
    "X_selected_Q29encoded.corr()['Q29_Encoded'].sort_values()"
   ]
  },
  {
   "cell_type": "markdown",
   "metadata": {},
   "source": [
    "For the positive feature importance:\n",
    "\n",
    "We can find that the feature 'Q4_United States of America' has the highest positive feature importance (Q4 is In which country do you currently reside?). Its feature importance value is 4.79713440964163. And the correlation between it and yearly compensation is 0.584453. These mean that it has the greatest (strongest) positive relationship with the yearly compensation among the selected features with positive feature importance and positive correlation.\n",
    "\n",
    "The feature 'Q8' has the lowest positive feature importance (Q8 is What is the highest level of formal education that you have attained or plan to attain within the next 2 years?). Its feature importance value is 0.06481105858665537. And the correlation between it and yearly compensation is 0.165013\n",
    "Thess mean that it has the lowest (weakest) positive relationship with the yearly compensation among the selected features with positive feature importance and positive correlation."
   ]
  },
  {
   "cell_type": "markdown",
   "metadata": {},
   "source": [
    "For the negative feature importance:\n",
    "\n",
    "We can find that Q4_India has the highest negative feature importance value (Q4 is In which country do you currently reside?). Its feature importance value is -0.6725317351516281. And the correlation between it and yearly compensation is -0.339819. \n",
    "These mean that it has the greatest (strongest) negative relationship with the yearly compensation among the selected features with negative feature importance and negative correlation.\n",
    "\n",
    "We can find that Q24_Academics/Education has the lowest negative feature importance value (Q24 is Q24 In what industry is your current employer/contract (or your most recent employer if retired)? - Selected Choice). Its feature importance value is -0.672320977505366. And the correlation between it and yearly compensation is -0.130247.\n",
    "These means that it has the lowest (weakest) negative relationship with the yearly compensation among the selected features with negative feature importance and negative correlation."
   ]
  },
  {
   "cell_type": "code",
   "execution_count": 63,
   "metadata": {},
   "outputs": [
    {
     "data": {
      "text/html": [
       "<div>\n",
       "<style scoped>\n",
       "    .dataframe tbody tr th:only-of-type {\n",
       "        vertical-align: middle;\n",
       "    }\n",
       "\n",
       "    .dataframe tbody tr th {\n",
       "        vertical-align: top;\n",
       "    }\n",
       "\n",
       "    .dataframe thead th {\n",
       "        text-align: right;\n",
       "    }\n",
       "</style>\n",
       "<table border=\"1\" class=\"dataframe\">\n",
       "  <thead>\n",
       "    <tr style=\"text-align: right;\">\n",
       "      <th></th>\n",
       "      <th>importance</th>\n",
       "      <th>feature number</th>\n",
       "    </tr>\n",
       "  </thead>\n",
       "  <tbody>\n",
       "    <tr>\n",
       "      <th>1</th>\n",
       "      <td>0.064811</td>\n",
       "      <td>2</td>\n",
       "    </tr>\n",
       "    <tr>\n",
       "      <th>4</th>\n",
       "      <td>0.109584</td>\n",
       "      <td>5</td>\n",
       "    </tr>\n",
       "    <tr>\n",
       "      <th>5</th>\n",
       "      <td>0.175269</td>\n",
       "      <td>6</td>\n",
       "    </tr>\n",
       "    <tr>\n",
       "      <th>0</th>\n",
       "      <td>0.179966</td>\n",
       "      <td>1</td>\n",
       "    </tr>\n",
       "    <tr>\n",
       "      <th>11</th>\n",
       "      <td>0.185868</td>\n",
       "      <td>104</td>\n",
       "    </tr>\n",
       "    <tr>\n",
       "      <th>3</th>\n",
       "      <td>0.271998</td>\n",
       "      <td>4</td>\n",
       "    </tr>\n",
       "    <tr>\n",
       "      <th>2</th>\n",
       "      <td>0.342680</td>\n",
       "      <td>3</td>\n",
       "    </tr>\n",
       "    <tr>\n",
       "      <th>9</th>\n",
       "      <td>0.384223</td>\n",
       "      <td>80</td>\n",
       "    </tr>\n",
       "    <tr>\n",
       "      <th>6</th>\n",
       "      <td>0.384707</td>\n",
       "      <td>7</td>\n",
       "    </tr>\n",
       "    <tr>\n",
       "      <th>10</th>\n",
       "      <td>0.672321</td>\n",
       "      <td>86</td>\n",
       "    </tr>\n",
       "    <tr>\n",
       "      <th>7</th>\n",
       "      <td>0.672532</td>\n",
       "      <td>33</td>\n",
       "    </tr>\n",
       "    <tr>\n",
       "      <th>8</th>\n",
       "      <td>4.797134</td>\n",
       "      <td>68</td>\n",
       "    </tr>\n",
       "  </tbody>\n",
       "</table>\n",
       "</div>"
      ],
      "text/plain": [
       "    importance  feature number\n",
       "1     0.064811               2\n",
       "4     0.109584               5\n",
       "5     0.175269               6\n",
       "0     0.179966               1\n",
       "11    0.185868             104\n",
       "3     0.271998               4\n",
       "2     0.342680               3\n",
       "9     0.384223              80\n",
       "6     0.384707               7\n",
       "10    0.672321              86\n",
       "7     0.672532              33\n",
       "8     4.797134              68"
      ]
     },
     "execution_count": 63,
     "metadata": {},
     "output_type": "execute_result"
    }
   ],
   "source": [
    "feature_importance_selected_abslist = pd.DataFrame({'importance':np.abs(feature_importance_selected), 'feature number': keep_index})\n",
    "feature_importance_selected_abslist.sort_values(by=['importance'])"
   ]
  },
  {
   "cell_type": "markdown",
   "metadata": {},
   "source": [
    "Also, feature 'Q4_United States of America' has the greatest absolute feature importance value. This indicates that reside and work in  United States of America is the most important factor that can affect the yearly compensation among the selected features. It has the strongest relationship with the yearly compensation among the selected features.\n",
    "\n",
    "Feature 'Q8' has the lowest absolute feature importance value. This indicates that the highest level of formal education that respondents has or will have is the least important factor that can affect the yearly compensation among the selected features. It has the weakest relationship with the yearly compensation among the selected features."
   ]
  },
  {
   "cell_type": "markdown",
   "metadata": {},
   "source": [
    "Also Q4_India has non-zero feature importance and non-zero correlation with yearly compensation.\n",
    "So, in the originial attributed in the data, 'Q4' is the most related to a survey resondent's yearly compenstaion. originial attributed in the data "
   ]
  },
  {
   "cell_type": "markdown",
   "metadata": {},
   "source": [
    "# Model implementation"
   ]
  },
  {
   "cell_type": "markdown",
   "metadata": {},
   "source": [
    "2.1: Some machine learning models are based on the Euclidean Distances. As a result, differnet scales by different features will lead to bias. The greater the scale is, the greater impact it has on the model and the result. So, in order to avoid the bias that different scales generate, we can apply scaling on the data. So that all the features have the same scale.\n",
    "\n",
    "\n",
    "As in 2.1 of this file, we have scaled the data and explain the reason why scaling is needed. And we also apply the technique on the testing and training data separately."
   ]
  },
  {
   "cell_type": "code",
   "execution_count": 64,
   "metadata": {},
   "outputs": [],
   "source": [
    "X_train_selected, X_test_selected, Y_train_selected, Y_test_selected = train_test_split(X_selected, Y,  test_size=0.3, random_state=21)\n",
    "scaler = StandardScaler()\n",
    "X_train_selected_norm = scaler.fit_transform(X_train_selected)\n",
    "X_test_selected_norm = scaler.transform(X_test_selected)"
   ]
  },
  {
   "cell_type": "code",
   "execution_count": 65,
   "metadata": {},
   "outputs": [
    {
     "data": {
      "text/plain": [
       "0.0     2144\n",
       "1.0      531\n",
       "2.0      431\n",
       "3.0      322\n",
       "4.0      308\n",
       "10.0     284\n",
       "5.0      261\n",
       "12.0     240\n",
       "6.0      230\n",
       "7.0      196\n",
       "11.0     191\n",
       "13.0     166\n",
       "8.0      162\n",
       "9.0      129\n",
       "14.0     100\n",
       "Name: Q29_Encoded, dtype: int64"
      ]
     },
     "execution_count": 65,
     "metadata": {},
     "output_type": "execute_result"
    }
   ],
   "source": [
    "Y_train_selected.value_counts()"
   ]
  },
  {
   "cell_type": "code",
   "execution_count": 66,
   "metadata": {},
   "outputs": [
    {
     "data": {
      "text/plain": [
       "15"
      ]
     },
     "execution_count": 66,
     "metadata": {},
     "output_type": "execute_result"
    }
   ],
   "source": [
    "len(Y_train_selected.value_counts())"
   ]
  },
  {
   "cell_type": "code",
   "execution_count": 67,
   "metadata": {},
   "outputs": [],
   "source": [
    "def OrdinalLogistic(X_train, Y_train, X_test, logisitic_model):\n",
    "    \n",
    "    Y_train_ordinal = Y_train\n",
    "    probability_cumulative = pd.DataFrame()\n",
    "    probability_each = pd.DataFrame()\n",
    "    predictions = []\n",
    "    \n",
    "    for i in range(14):\n",
    "        yy = []\n",
    "        probability_list = []\n",
    "        for j in Y_train:\n",
    "            if j > i:\n",
    "                yy.append(int(1))\n",
    "            else:\n",
    "                yy.append(int(0))\n",
    "        \n",
    "        logisitic_model.fit(X_train, yy)\n",
    "        \n",
    "        probability = logisitic_model.predict_proba(X_test)\n",
    "        \n",
    "        for k in range(probability.shape[0]):\n",
    "            probability_list.append(probability[k][0])\n",
    "        \n",
    "        probability_cumulative[i] = probability_list\n",
    "\n",
    "    probability_cumulative[14] = [1]*len(probability)\n",
    "\n",
    "    \n",
    "    # calculate probability of each category\n",
    "    for i in range(15):\n",
    "        if i == 0 :\n",
    "            probability_each[i] =  probability_cumulative[i]\n",
    "        else:\n",
    "            probability_each[i] =  probability_cumulative[i] - probability_cumulative[i-1]\n",
    "\n",
    "    \n",
    "    # indicate the predictions\n",
    "    predictions = probability_each.idxmax(axis=1)\n",
    "    \n",
    "    return probability_cumulative, probability_each, predictions"
   ]
  },
  {
   "cell_type": "code",
   "execution_count": 68,
   "metadata": {},
   "outputs": [
    {
     "name": "stdout",
     "output_type": "stream",
     "text": [
      "Fold 1: Accuracy: 78.571%\n",
      "Fold 2: Accuracy: 82.422%\n",
      "Fold 3: Accuracy: 81.25%\n",
      "Fold 4: Accuracy: 81.2%\n",
      "Fold 5: Accuracy: 84.462%\n",
      "Fold 6: Accuracy: 79.92%\n",
      "Fold 7: Accuracy: 77.016%\n",
      "Fold 8: Accuracy: 78.125%\n",
      "Fold 9: Accuracy: 82.156%\n",
      "Fold 10: Accuracy: 78.788%\n",
      "Average Accuracy: 80.391%(2.187%)\n",
      "Standard deviation Accuracy: 2.1871048894778347%\n"
     ]
    }
   ],
   "source": [
    "logisitic_model = LogisticRegression(random_state=21, max_iter = 1000)\n",
    "kfold = KFold(n_splits=10)\n",
    "kfold.get_n_splits(X_train_selected)\n",
    "accuracy= np.zeros(10)\n",
    "np_idx = 0\n",
    "\n",
    "\n",
    "for train_idx, test_idx in kfold.split(X_train_selected):\n",
    "    X_train, X_val = X_train_selected.values[train_idx], X_train_selected.values[test_idx]\n",
    "    Y_train, Y_val = Y_train_selected.values[train_idx], Y_train_selected.values[test_idx]\n",
    "    \n",
    "\n",
    "    probability_cumulative, probability_each, predictions= OrdinalLogistic(X_train, Y_train, X_val,logisitic_model)\n",
    "\n",
    "    TN = confusion_matrix(Y_val, predictions)[0][0]\n",
    "    FP = confusion_matrix(Y_val, predictions)[0][1]\n",
    "    FN = confusion_matrix(Y_val, predictions)[1][0]\n",
    "    TP = confusion_matrix(Y_val, predictions)[1][1]\n",
    "    total = TN + FP + FN + TP\n",
    "    ACC = (TP + TN) / float(total)\n",
    "    \n",
    "    accuracy[np_idx] = ACC*100\n",
    "    np_idx += 1\n",
    "    \n",
    "    print (\"Fold {}: Accuracy: {}%\".format(np_idx, round(ACC*100,3)))   \n",
    "\n",
    "print (\"Average Accuracy: {}%({}%)\".format(round(np.mean(accuracy),3),round(np.std(accuracy),3)))\n",
    "print('Standard deviation Accuracy: {}%'.format(np.std(accuracy)))"
   ]
  },
  {
   "cell_type": "markdown",
   "metadata": {},
   "source": [
    "As we using accuracy as metric and have 10-fold cross- validation, the average accuracy is 80.391%. Standard deviation is 2.1871048894778347%.\n",
    "\n",
    "Below are the probability for each of the salary buckets and our prediction"
   ]
  },
  {
   "cell_type": "code",
   "execution_count": 69,
   "metadata": {},
   "outputs": [
    {
     "data": {
      "text/html": [
       "<div>\n",
       "<style scoped>\n",
       "    .dataframe tbody tr th:only-of-type {\n",
       "        vertical-align: middle;\n",
       "    }\n",
       "\n",
       "    .dataframe tbody tr th {\n",
       "        vertical-align: top;\n",
       "    }\n",
       "\n",
       "    .dataframe thead th {\n",
       "        text-align: right;\n",
       "    }\n",
       "</style>\n",
       "<table border=\"1\" class=\"dataframe\">\n",
       "  <thead>\n",
       "    <tr style=\"text-align: right;\">\n",
       "      <th></th>\n",
       "      <th>0</th>\n",
       "      <th>1</th>\n",
       "      <th>2</th>\n",
       "      <th>3</th>\n",
       "      <th>4</th>\n",
       "      <th>5</th>\n",
       "      <th>6</th>\n",
       "      <th>7</th>\n",
       "      <th>8</th>\n",
       "      <th>9</th>\n",
       "      <th>10</th>\n",
       "      <th>11</th>\n",
       "      <th>12</th>\n",
       "      <th>13</th>\n",
       "      <th>14</th>\n",
       "    </tr>\n",
       "  </thead>\n",
       "  <tbody>\n",
       "    <tr>\n",
       "      <th>0</th>\n",
       "      <td>0.728536</td>\n",
       "      <td>0.076808</td>\n",
       "      <td>0.064447</td>\n",
       "      <td>0.026368</td>\n",
       "      <td>0.026495</td>\n",
       "      <td>0.034488</td>\n",
       "      <td>0.016895</td>\n",
       "      <td>0.009784</td>\n",
       "      <td>0.004780</td>\n",
       "      <td>0.003771</td>\n",
       "      <td>0.003397</td>\n",
       "      <td>0.002004</td>\n",
       "      <td>0.001098</td>\n",
       "      <td>0.000487</td>\n",
       "      <td>0.000642</td>\n",
       "    </tr>\n",
       "    <tr>\n",
       "      <th>1</th>\n",
       "      <td>0.534860</td>\n",
       "      <td>0.222627</td>\n",
       "      <td>0.109525</td>\n",
       "      <td>0.043763</td>\n",
       "      <td>0.024869</td>\n",
       "      <td>0.016772</td>\n",
       "      <td>0.011944</td>\n",
       "      <td>0.013987</td>\n",
       "      <td>0.003228</td>\n",
       "      <td>0.005306</td>\n",
       "      <td>0.005823</td>\n",
       "      <td>0.004050</td>\n",
       "      <td>0.001429</td>\n",
       "      <td>0.000508</td>\n",
       "      <td>0.001308</td>\n",
       "    </tr>\n",
       "    <tr>\n",
       "      <th>2</th>\n",
       "      <td>0.320269</td>\n",
       "      <td>0.111324</td>\n",
       "      <td>0.146466</td>\n",
       "      <td>0.099201</td>\n",
       "      <td>0.062100</td>\n",
       "      <td>0.083759</td>\n",
       "      <td>0.048317</td>\n",
       "      <td>0.052034</td>\n",
       "      <td>0.026311</td>\n",
       "      <td>0.019435</td>\n",
       "      <td>0.017504</td>\n",
       "      <td>0.007966</td>\n",
       "      <td>0.003280</td>\n",
       "      <td>0.000642</td>\n",
       "      <td>0.001393</td>\n",
       "    </tr>\n",
       "    <tr>\n",
       "      <th>3</th>\n",
       "      <td>0.688204</td>\n",
       "      <td>0.106593</td>\n",
       "      <td>0.078312</td>\n",
       "      <td>0.033715</td>\n",
       "      <td>0.024434</td>\n",
       "      <td>0.021773</td>\n",
       "      <td>0.015666</td>\n",
       "      <td>0.014566</td>\n",
       "      <td>0.006431</td>\n",
       "      <td>0.004262</td>\n",
       "      <td>0.002904</td>\n",
       "      <td>0.001955</td>\n",
       "      <td>0.000623</td>\n",
       "      <td>0.000042</td>\n",
       "      <td>0.000522</td>\n",
       "    </tr>\n",
       "    <tr>\n",
       "      <th>4</th>\n",
       "      <td>0.183138</td>\n",
       "      <td>0.075042</td>\n",
       "      <td>0.110240</td>\n",
       "      <td>0.095186</td>\n",
       "      <td>0.105581</td>\n",
       "      <td>0.121801</td>\n",
       "      <td>0.056572</td>\n",
       "      <td>0.076507</td>\n",
       "      <td>0.052128</td>\n",
       "      <td>0.013742</td>\n",
       "      <td>0.070685</td>\n",
       "      <td>0.021638</td>\n",
       "      <td>0.009426</td>\n",
       "      <td>0.005105</td>\n",
       "      <td>0.003210</td>\n",
       "    </tr>\n",
       "    <tr>\n",
       "      <th>...</th>\n",
       "      <td>...</td>\n",
       "      <td>...</td>\n",
       "      <td>...</td>\n",
       "      <td>...</td>\n",
       "      <td>...</td>\n",
       "      <td>...</td>\n",
       "      <td>...</td>\n",
       "      <td>...</td>\n",
       "      <td>...</td>\n",
       "      <td>...</td>\n",
       "      <td>...</td>\n",
       "      <td>...</td>\n",
       "      <td>...</td>\n",
       "      <td>...</td>\n",
       "      <td>...</td>\n",
       "    </tr>\n",
       "    <tr>\n",
       "      <th>564</th>\n",
       "      <td>0.543601</td>\n",
       "      <td>0.122305</td>\n",
       "      <td>0.077740</td>\n",
       "      <td>0.058495</td>\n",
       "      <td>0.055410</td>\n",
       "      <td>0.045592</td>\n",
       "      <td>0.033154</td>\n",
       "      <td>0.020805</td>\n",
       "      <td>0.012338</td>\n",
       "      <td>0.007603</td>\n",
       "      <td>0.013161</td>\n",
       "      <td>0.004317</td>\n",
       "      <td>0.001784</td>\n",
       "      <td>0.001617</td>\n",
       "      <td>0.002078</td>\n",
       "    </tr>\n",
       "    <tr>\n",
       "      <th>565</th>\n",
       "      <td>0.490342</td>\n",
       "      <td>0.125381</td>\n",
       "      <td>0.142243</td>\n",
       "      <td>0.063207</td>\n",
       "      <td>0.056482</td>\n",
       "      <td>0.057381</td>\n",
       "      <td>0.017620</td>\n",
       "      <td>0.018973</td>\n",
       "      <td>0.010215</td>\n",
       "      <td>0.006816</td>\n",
       "      <td>0.006057</td>\n",
       "      <td>0.002155</td>\n",
       "      <td>0.001511</td>\n",
       "      <td>-0.000107</td>\n",
       "      <td>0.001725</td>\n",
       "    </tr>\n",
       "    <tr>\n",
       "      <th>566</th>\n",
       "      <td>0.719986</td>\n",
       "      <td>0.152888</td>\n",
       "      <td>0.057244</td>\n",
       "      <td>0.020286</td>\n",
       "      <td>0.016976</td>\n",
       "      <td>0.008315</td>\n",
       "      <td>0.006543</td>\n",
       "      <td>0.004741</td>\n",
       "      <td>0.001621</td>\n",
       "      <td>0.001647</td>\n",
       "      <td>0.002722</td>\n",
       "      <td>0.002137</td>\n",
       "      <td>0.000236</td>\n",
       "      <td>0.001494</td>\n",
       "      <td>0.003164</td>\n",
       "    </tr>\n",
       "    <tr>\n",
       "      <th>567</th>\n",
       "      <td>0.167921</td>\n",
       "      <td>0.036796</td>\n",
       "      <td>0.031335</td>\n",
       "      <td>0.036515</td>\n",
       "      <td>0.087398</td>\n",
       "      <td>0.079492</td>\n",
       "      <td>0.119333</td>\n",
       "      <td>0.104540</td>\n",
       "      <td>0.073876</td>\n",
       "      <td>0.051502</td>\n",
       "      <td>0.105722</td>\n",
       "      <td>0.062463</td>\n",
       "      <td>0.026470</td>\n",
       "      <td>0.011251</td>\n",
       "      <td>0.005386</td>\n",
       "    </tr>\n",
       "    <tr>\n",
       "      <th>568</th>\n",
       "      <td>0.888878</td>\n",
       "      <td>0.062050</td>\n",
       "      <td>0.027919</td>\n",
       "      <td>0.006234</td>\n",
       "      <td>0.004512</td>\n",
       "      <td>0.003624</td>\n",
       "      <td>0.001237</td>\n",
       "      <td>0.001085</td>\n",
       "      <td>0.000765</td>\n",
       "      <td>0.000367</td>\n",
       "      <td>0.000153</td>\n",
       "      <td>0.000944</td>\n",
       "      <td>-0.000117</td>\n",
       "      <td>-0.000868</td>\n",
       "      <td>0.003217</td>\n",
       "    </tr>\n",
       "  </tbody>\n",
       "</table>\n",
       "<p>569 rows × 15 columns</p>\n",
       "</div>"
      ],
      "text/plain": [
       "           0         1         2         3         4         5         6   \\\n",
       "0    0.728536  0.076808  0.064447  0.026368  0.026495  0.034488  0.016895   \n",
       "1    0.534860  0.222627  0.109525  0.043763  0.024869  0.016772  0.011944   \n",
       "2    0.320269  0.111324  0.146466  0.099201  0.062100  0.083759  0.048317   \n",
       "3    0.688204  0.106593  0.078312  0.033715  0.024434  0.021773  0.015666   \n",
       "4    0.183138  0.075042  0.110240  0.095186  0.105581  0.121801  0.056572   \n",
       "..        ...       ...       ...       ...       ...       ...       ...   \n",
       "564  0.543601  0.122305  0.077740  0.058495  0.055410  0.045592  0.033154   \n",
       "565  0.490342  0.125381  0.142243  0.063207  0.056482  0.057381  0.017620   \n",
       "566  0.719986  0.152888  0.057244  0.020286  0.016976  0.008315  0.006543   \n",
       "567  0.167921  0.036796  0.031335  0.036515  0.087398  0.079492  0.119333   \n",
       "568  0.888878  0.062050  0.027919  0.006234  0.004512  0.003624  0.001237   \n",
       "\n",
       "           7         8         9         10        11        12        13  \\\n",
       "0    0.009784  0.004780  0.003771  0.003397  0.002004  0.001098  0.000487   \n",
       "1    0.013987  0.003228  0.005306  0.005823  0.004050  0.001429  0.000508   \n",
       "2    0.052034  0.026311  0.019435  0.017504  0.007966  0.003280  0.000642   \n",
       "3    0.014566  0.006431  0.004262  0.002904  0.001955  0.000623  0.000042   \n",
       "4    0.076507  0.052128  0.013742  0.070685  0.021638  0.009426  0.005105   \n",
       "..        ...       ...       ...       ...       ...       ...       ...   \n",
       "564  0.020805  0.012338  0.007603  0.013161  0.004317  0.001784  0.001617   \n",
       "565  0.018973  0.010215  0.006816  0.006057  0.002155  0.001511 -0.000107   \n",
       "566  0.004741  0.001621  0.001647  0.002722  0.002137  0.000236  0.001494   \n",
       "567  0.104540  0.073876  0.051502  0.105722  0.062463  0.026470  0.011251   \n",
       "568  0.001085  0.000765  0.000367  0.000153  0.000944 -0.000117 -0.000868   \n",
       "\n",
       "           14  \n",
       "0    0.000642  \n",
       "1    0.001308  \n",
       "2    0.001393  \n",
       "3    0.000522  \n",
       "4    0.003210  \n",
       "..        ...  \n",
       "564  0.002078  \n",
       "565  0.001725  \n",
       "566  0.003164  \n",
       "567  0.005386  \n",
       "568  0.003217  \n",
       "\n",
       "[569 rows x 15 columns]"
      ]
     },
     "execution_count": 69,
     "metadata": {},
     "output_type": "execute_result"
    }
   ],
   "source": [
    "# a probability of belonging to each of the salary buckets\n",
    "probability_each"
   ]
  },
  {
   "cell_type": "code",
   "execution_count": 70,
   "metadata": {},
   "outputs": [
    {
     "data": {
      "text/plain": [
       "0      0\n",
       "1      0\n",
       "2      0\n",
       "3      0\n",
       "4      0\n",
       "      ..\n",
       "564    0\n",
       "565    0\n",
       "566    0\n",
       "567    0\n",
       "568    0\n",
       "Length: 569, dtype: int64"
      ]
     },
     "execution_count": 70,
     "metadata": {},
     "output_type": "execute_result"
    }
   ],
   "source": [
    "# The prediction\n",
    "predictions"
   ]
  },
  {
   "cell_type": "markdown",
   "metadata": {},
   "source": [
    "We change the value of C (hyperparameter). And treat each value of hyperparameter(s) as a new model."
   ]
  },
  {
   "cell_type": "code",
   "execution_count": 71,
   "metadata": {},
   "outputs": [
    {
     "name": "stdout",
     "output_type": "stream",
     "text": [
      "C = 0.001\n",
      "C = 0.01\n",
      "C = 0.05\n",
      "C = 0.1\n",
      "C = 0.5\n",
      "C = 1\n",
      "C = 5\n",
      "C = 10\n",
      "C = 100\n",
      "[26.158105514507003, 22.838430773743823, 21.43434822290136, 21.14195317929848, 20.754032320630778, 20.693596961267275, 20.650061047865954, 20.64631627666282, 20.634923304686577]\n",
      "[11.518454999177184, 17.00783891994554, 18.93436844942135, 19.352354525300033, 19.98756743948276, 20.104458003326457, 20.189769623031903, 20.209496031754437, 20.23859774567301]\n"
     ]
    }
   ],
   "source": [
    "# Change C value\n",
    "logisitic_model = LogisticRegression(random_state=21, max_iter = 1000)\n",
    "kfold = KFold(n_splits=10)\n",
    "kfold.get_n_splits(X)\n",
    "bias_list = []\n",
    "variance_list = []\n",
    "\n",
    "for C in [0.001,0.01,0.05,0.1,0.5,1,5,10, 100]:\n",
    "        model = LogisticRegression(C=C, random_state=21, max_iter = 1000)\n",
    "        np_idx = 0\n",
    "        bias_C = []\n",
    "        variation_C =[]\n",
    "        print('C =',C)\n",
    "        for train_idx, test_idx in kfold.split(X_train_selected):\n",
    "            X_train, X_val = X_train_selected.values[train_idx], X_train_selected.values[test_idx]\n",
    "            Y_train, Y_val = Y_train_selected.values[train_idx], Y_train_selected.values[test_idx]\n",
    "    \n",
    "            probability_cumulative, probability_each, predictions= OrdinalLogistic(X_train, Y_train, X_val,model)\n",
    "            \n",
    "            bias = np.power((np.mean(predictions)-Y_val),2)\n",
    "            variance = np.mean(np.power(np.mean(predictions)-predictions,2))\n",
    "        \n",
    "            bias_C.append(np.mean(bias))\n",
    "            variation_C.append(np.mean(variance))\n",
    "            \n",
    "        bias_list.append(np.mean(bias_C))\n",
    "        variance_list.append(np.mean(variation_C))\n",
    "\n",
    "print(bias_list)\n",
    "print(variance_list)"
   ]
  },
  {
   "cell_type": "code",
   "execution_count": 72,
   "metadata": {},
   "outputs": [
    {
     "data": {
      "image/png": "[encoded data removed]",
      "text/plain": [
       "<Figure size 432x288 with 1 Axes>"
      ]
     },
     "metadata": {
      "needs_background": "light"
     },
     "output_type": "display_data"
    }
   ],
   "source": [
    "plt.figure()\n",
    "plt.plot(bias_list, label='bias square')\n",
    "plt.plot(variance_list,  label='Variance')\n",
    "plt.xlabel('C Value')\n",
    "plt.xticks(range(len([0.001,0.01,0.05,0.1,0.5,1,5,10, 100])), [0.001,0.01,0.05,0.1,0.5,1,5,10, 100])\n",
    "plt.title('Bias-variance trade-off')\n",
    "plt.legend()\n",
    "plt.show()"
   ]
  },
  {
   "cell_type": "code",
   "execution_count": 73,
   "metadata": {},
   "outputs": [
    {
     "data": {
      "text/html": [
       "<div>\n",
       "<style scoped>\n",
       "    .dataframe tbody tr th:only-of-type {\n",
       "        vertical-align: middle;\n",
       "    }\n",
       "\n",
       "    .dataframe tbody tr th {\n",
       "        vertical-align: top;\n",
       "    }\n",
       "\n",
       "    .dataframe thead th {\n",
       "        text-align: right;\n",
       "    }\n",
       "</style>\n",
       "<table border=\"1\" class=\"dataframe\">\n",
       "  <thead>\n",
       "    <tr style=\"text-align: right;\">\n",
       "      <th></th>\n",
       "      <th>0</th>\n",
       "    </tr>\n",
       "  </thead>\n",
       "  <tbody>\n",
       "    <tr>\n",
       "      <th>0</th>\n",
       "      <td>37.676561</td>\n",
       "    </tr>\n",
       "    <tr>\n",
       "      <th>1</th>\n",
       "      <td>39.846270</td>\n",
       "    </tr>\n",
       "    <tr>\n",
       "      <th>2</th>\n",
       "      <td>40.368717</td>\n",
       "    </tr>\n",
       "    <tr>\n",
       "      <th>3</th>\n",
       "      <td>40.494308</td>\n",
       "    </tr>\n",
       "    <tr>\n",
       "      <th>4</th>\n",
       "      <td>40.741600</td>\n",
       "    </tr>\n",
       "    <tr>\n",
       "      <th>5</th>\n",
       "      <td>40.798055</td>\n",
       "    </tr>\n",
       "    <tr>\n",
       "      <th>6</th>\n",
       "      <td>40.839831</td>\n",
       "    </tr>\n",
       "    <tr>\n",
       "      <th>7</th>\n",
       "      <td>40.855812</td>\n",
       "    </tr>\n",
       "    <tr>\n",
       "      <th>8</th>\n",
       "      <td>40.873521</td>\n",
       "    </tr>\n",
       "  </tbody>\n",
       "</table>\n",
       "</div>"
      ],
      "text/plain": [
       "           0\n",
       "0  37.676561\n",
       "1  39.846270\n",
       "2  40.368717\n",
       "3  40.494308\n",
       "4  40.741600\n",
       "5  40.798055\n",
       "6  40.839831\n",
       "7  40.855812\n",
       "8  40.873521"
      ]
     },
     "execution_count": 73,
     "metadata": {},
     "output_type": "execute_result"
    }
   ],
   "source": [
    "MSE = pd.DataFrame(variance_list)+pd.DataFrame(bias_list)\n",
    "MSE"
   ]
  },
  {
   "cell_type": "markdown",
   "metadata": {},
   "source": [
    "By the plotting and the figure above, we find that we have lowest MSE at C=0.001. This means we have the best model when C=0.001. The reason why C=0.001 gives the best model is that:\n",
    "\n",
    "MSE = bias square + variance + X\n",
    "\n",
    "Based on Bias-variance trade-off plot, we can find that as bias decrease, the variance increase. As bias increases, the variance decreases.\n",
    "So, in order to minimize the MSE, we must have a trade-off between bias and variance. And after the plotting and calculation, we find that when C=0.001, it gives minimum value of bias square + variance. As a result, C=0.001 gives the best model. "
   ]
  },
  {
   "cell_type": "markdown",
   "metadata": {},
   "source": [
    "# Model tuning"
   ]
  },
  {
   "cell_type": "markdown",
   "metadata": {},
   "source": [
    "There are actually two hyperparameters in the logistic model: C value and solver. Solver includes 'newton-cg', 'lbfgs', 'liblinear', 'sag'\n",
    "So, now, we add different solver and find which combinnation of C-value and solver gives the best model."
   ]
  },
  {
   "cell_type": "markdown",
   "metadata": {},
   "source": [
    "## Use accuracy as metric"
   ]
  },
  {
   "cell_type": "code",
   "execution_count": 74,
   "metadata": {},
   "outputs": [
    {
     "name": "stdout",
     "output_type": "stream",
     "text": [
      "C = 0.001 solver =  newton-cg\n",
      "C = 0.001 solver =  lbfgs\n",
      "C = 0.001 solver =  liblinear\n",
      "C = 0.001 solver =  sag\n",
      "C = 0.01 solver =  newton-cg\n",
      "C = 0.01 solver =  lbfgs\n",
      "C = 0.01 solver =  liblinear\n",
      "C = 0.01 solver =  sag\n",
      "C = 0.05 solver =  newton-cg\n",
      "C = 0.05 solver =  lbfgs\n",
      "C = 0.05 solver =  liblinear\n",
      "C = 0.05 solver =  sag\n",
      "C = 0.1 solver =  newton-cg\n",
      "C = 0.1 solver =  lbfgs\n",
      "C = 0.1 solver =  liblinear\n",
      "C = 0.1 solver =  sag\n",
      "C = 0.5 solver =  newton-cg\n",
      "C = 0.5 solver =  lbfgs\n",
      "C = 0.5 solver =  liblinear\n",
      "C = 0.5 solver =  sag\n",
      "C = 1 solver =  newton-cg\n",
      "C = 1 solver =  lbfgs\n",
      "C = 1 solver =  liblinear\n",
      "C = 1 solver =  sag\n",
      "C = 5 solver =  newton-cg\n",
      "C = 5 solver =  lbfgs\n",
      "C = 5 solver =  liblinear\n",
      "C = 5 solver =  sag\n",
      "C = 10 solver =  newton-cg\n",
      "C = 10 solver =  lbfgs\n",
      "C = 10 solver =  liblinear\n",
      "C = 10 solver =  sag\n",
      "C = 100 solver =  newton-cg\n",
      "C = 100 solver =  lbfgs\n",
      "C = 100 solver =  liblinear\n",
      "C = 100 solver =  sag\n",
      "{'C': 5, 'solver': 'lbfgs'}\n",
      "Best Score: 80.42%(2.222%)\n",
      "\n",
      "The optimal log model uses C=5, and a lbfgs solver, and has a cross validation score of 80.42% with a standard deviation of 2.222%\n"
     ]
    }
   ],
   "source": [
    "logisitic_model = LogisticRegression(random_state=21, max_iter = 1000)\n",
    "kfold = KFold(n_splits=10)\n",
    "kfold.get_n_splits(X)\n",
    "\n",
    "best_model = model\n",
    "best_params = {}\n",
    "best_accuracy = 0\n",
    "best_std = 0\n",
    "\n",
    "# Change C value\n",
    "logisitic_model = LogisticRegression(random_state=21, max_iter = 1000)\n",
    "kfold = KFold(n_splits=10)\n",
    "kfold.get_n_splits(X)\n",
    "\n",
    "\n",
    "for C in [0.001,0.01,0.05,0.1,0.5,1,5,10, 100]:\n",
    "    for solver in ['newton-cg', 'lbfgs', 'liblinear', 'sag']:\n",
    "        model = LogisticRegression(C=C, solver=solver, random_state=21, max_iter = 1000)\n",
    "        accuracy = np.zeros(10)\n",
    "        np_idx = 0\n",
    "        print('C =',C,'solver = ',solver)\n",
    "        for train_idx, test_idx in kfold.split(X_train_selected):\n",
    "            X_train, X_val = X_train_selected.values[train_idx], X_train_selected.values[test_idx]\n",
    "            Y_train, Y_val = Y_train_selected.values[train_idx], Y_train_selected.values[test_idx]\n",
    "    \n",
    "            probability_cumulative, probability_each, predictions= OrdinalLogistic(X_train, Y_train, X_val,model)\n",
    "            \n",
    "            \n",
    "            TN = confusion_matrix(Y_val, predictions)[0][0]\n",
    "            FP = confusion_matrix(Y_val, predictions)[0][1]\n",
    "            FN = confusion_matrix(Y_val, predictions)[1][0]\n",
    "            TP = confusion_matrix(Y_val, predictions)[1][1]\n",
    "            total = TN + FP + FN + TP\n",
    "            ACC = (TP + TN) / float(total)\n",
    "\n",
    "            accuracy[np_idx] = ACC*100\n",
    "            np_idx += 1\n",
    "        \n",
    "            if np.mean(accuracy) > best_accuracy:\n",
    "                best_model = model\n",
    "                best_params = {'C':C, 'solver':solver}\n",
    "                best_accuracy = np.mean(accuracy)\n",
    "                best_std = np.std(accuracy)\n",
    "\n",
    "print (best_params)\n",
    "print (\"Best Score: {}%({}%)\".format(round(best_accuracy,3),round(best_std,3)))      \n",
    "\n",
    "print (\"\\nThe optimal log model uses C={}, and a {} solver, and has a cross validation score of {}% with a standard deviation of {}%\".format(best_params['C'],best_params['solver'],round(best_accuracy,3),round(best_std,3)))\n",
    "    "
   ]
  },
  {
   "cell_type": "markdown",
   "metadata": {},
   "source": [
    "## Use F1-score as metric"
   ]
  },
  {
   "cell_type": "code",
   "execution_count": 75,
   "metadata": {},
   "outputs": [
    {
     "name": "stdout",
     "output_type": "stream",
     "text": [
      "C = 0.001 solver =  newton-cg\n",
      "C = 0.001 solver =  lbfgs\n",
      "C = 0.001 solver =  liblinear\n",
      "C = 0.001 solver =  sag\n",
      "C = 0.01 solver =  newton-cg\n",
      "C = 0.01 solver =  lbfgs\n",
      "C = 0.01 solver =  liblinear\n",
      "C = 0.01 solver =  sag\n",
      "C = 0.05 solver =  newton-cg\n",
      "C = 0.05 solver =  lbfgs\n",
      "C = 0.05 solver =  liblinear\n",
      "C = 0.05 solver =  sag\n",
      "C = 0.1 solver =  newton-cg\n",
      "C = 0.1 solver =  lbfgs\n",
      "C = 0.1 solver =  liblinear\n",
      "C = 0.1 solver =  sag\n",
      "C = 0.5 solver =  newton-cg\n",
      "C = 0.5 solver =  lbfgs\n",
      "C = 0.5 solver =  liblinear\n",
      "C = 0.5 solver =  sag\n",
      "C = 1 solver =  newton-cg\n",
      "C = 1 solver =  lbfgs\n",
      "C = 1 solver =  liblinear\n",
      "C = 1 solver =  sag\n",
      "C = 5 solver =  newton-cg\n",
      "C = 5 solver =  lbfgs\n",
      "C = 5 solver =  liblinear\n",
      "C = 5 solver =  sag\n",
      "C = 10 solver =  newton-cg\n",
      "C = 10 solver =  lbfgs\n",
      "C = 10 solver =  liblinear\n",
      "C = 10 solver =  sag\n",
      "C = 100 solver =  newton-cg\n",
      "C = 100 solver =  lbfgs\n",
      "C = 100 solver =  liblinear\n",
      "C = 100 solver =  sag\n",
      "{'C': 0.1, 'solver': 'lbfgs'}\n",
      "Best Score: 41.246%(2.379%)\n",
      "\n",
      "The optimal log model uses C=0.1, and a lbfgs solver, and has a cross validation score of 41.246% with a standard deviation of 2.379%\n"
     ]
    }
   ],
   "source": [
    "logisitic_model = LogisticRegression(random_state=21, max_iter = 1000)\n",
    "kfold = KFold(n_splits=10)\n",
    "kfold.get_n_splits(X)\n",
    "\n",
    "best_model = model\n",
    "best_params = {}\n",
    "best_f1 = 0\n",
    "best_f1_std = 0\n",
    "\n",
    "# Change C value\n",
    "logisitic_model = LogisticRegression(random_state=21, max_iter = 1000)\n",
    "kfold = KFold(n_splits=10)\n",
    "kfold.get_n_splits(X)\n",
    "\n",
    "\n",
    "for C in [0.001,0.01,0.05,0.1,0.5,1,5,10, 100]:\n",
    "    for solver in ['newton-cg', 'lbfgs', 'liblinear', 'sag']:\n",
    "        model = LogisticRegression(C=C, solver=solver, random_state=21, max_iter = 1000)\n",
    "        f1= np.zeros(10)\n",
    "        np_idx = 0\n",
    "        print('C =',C,'solver = ',solver)\n",
    "        for train_idx, test_idx in kfold.split(X_train_selected):\n",
    "            X_train, X_val = X_train_selected.values[train_idx], X_train_selected.values[test_idx]\n",
    "            Y_train, Y_val = Y_train_selected.values[train_idx], Y_train_selected.values[test_idx]\n",
    "    \n",
    "            probability_cumulative, probability_each, predictions= OrdinalLogistic(X_train, Y_train, X_val,model)\n",
    "            \n",
    "            f1_C = f1_score(Y_val,predictions, average='micro')\n",
    "\n",
    "            f1[np_idx] = f1_C\n",
    "            np_idx += 1\n",
    "        \n",
    "            if np.mean(f1) > best_f1:\n",
    "                best_model = model\n",
    "                best_params = {'C':C, 'solver':solver}\n",
    "                best_f1 = np.mean(f1)\n",
    "                best_f1_std = np.std(f1)\n",
    "\n",
    "print (best_params)\n",
    "print (\"Best Score: {}%({}%)\".format(round(best_f1*100,3),round(best_f1_std*100,3)))      \n",
    "\n",
    "print (\"\\nThe optimal log model uses C={}, and a {} solver, and has a cross validation score of {}% with a standard deviation of {}%\".format(best_params['C'],best_params['solver'],round(best_f1*100,3),round(best_f1_std*100,3)))\n",
    "           "
   ]
  },
  {
   "cell_type": "code",
   "execution_count": 76,
   "metadata": {},
   "outputs": [
    {
     "data": {
      "text/plain": [
       "0.0     3058\n",
       "1.0      792\n",
       "2.0      614\n",
       "3.0      464\n",
       "4.0      421\n",
       "10.0     404\n",
       "5.0      366\n",
       "12.0     342\n",
       "6.0      318\n",
       "7.0      289\n",
       "11.0     269\n",
       "13.0     233\n",
       "8.0      222\n",
       "9.0      197\n",
       "14.0     147\n",
       "Name: Q29_Encoded, dtype: int64"
      ]
     },
     "execution_count": 76,
     "metadata": {},
     "output_type": "execute_result"
    }
   ],
   "source": [
    "df.Q29_Encoded.value_counts()"
   ]
  },
  {
   "cell_type": "markdown",
   "metadata": {},
   "source": [
    "We get the best model with C=0.1 and with 'lbfgs' solver. It has a cross validation score of 41.246% with a standard deviation of 2.379%"
   ]
  },
  {
   "cell_type": "markdown",
   "metadata": {},
   "source": [
    "We find that the accuracy is high when we use accuracy as the metric. But we should not use accuracy as the metric as a suitable performance metric for this problem. Because:\n",
    "\n",
    "We can find that most of the respondents' yearly compensation belongs to 0.0. We have imbalance data for this feature. This will lead to the data skewed. The model trainned based on this data will give the result prefer to group 0.0. The prediction will have bias. And it leads to the high score and low standard deviation. But these are wrong result due to the data skewed.\n",
    "So we can't use accuracy cannot be a suitable performance metric. "
   ]
  },
  {
   "cell_type": "markdown",
   "metadata": {},
   "source": [
    "## Create the feature importance graph"
   ]
  },
  {
   "cell_type": "code",
   "execution_count": 77,
   "metadata": {},
   "outputs": [
    {
     "data": {
      "text/html": [
       "<div>\n",
       "<style scoped>\n",
       "    .dataframe tbody tr th:only-of-type {\n",
       "        vertical-align: middle;\n",
       "    }\n",
       "\n",
       "    .dataframe tbody tr th {\n",
       "        vertical-align: top;\n",
       "    }\n",
       "\n",
       "    .dataframe thead th {\n",
       "        text-align: right;\n",
       "    }\n",
       "</style>\n",
       "<table border=\"1\" class=\"dataframe\">\n",
       "  <thead>\n",
       "    <tr style=\"text-align: right;\">\n",
       "      <th></th>\n",
       "      <th>0</th>\n",
       "      <th>1</th>\n",
       "      <th>2</th>\n",
       "      <th>3</th>\n",
       "      <th>4</th>\n",
       "      <th>5</th>\n",
       "      <th>6</th>\n",
       "      <th>7</th>\n",
       "      <th>8</th>\n",
       "      <th>9</th>\n",
       "      <th>10</th>\n",
       "      <th>11</th>\n",
       "    </tr>\n",
       "  </thead>\n",
       "  <tbody>\n",
       "    <tr>\n",
       "      <th>0</th>\n",
       "      <td>-0.003667</td>\n",
       "      <td>-0.102827</td>\n",
       "      <td>0.207934</td>\n",
       "      <td>0.094118</td>\n",
       "      <td>0.014799</td>\n",
       "      <td>0.164713</td>\n",
       "      <td>0.406105</td>\n",
       "      <td>0.183686</td>\n",
       "      <td>0.999308</td>\n",
       "      <td>0.462102</td>\n",
       "      <td>-0.460689</td>\n",
       "      <td>0.256663</td>\n",
       "    </tr>\n",
       "  </tbody>\n",
       "</table>\n",
       "</div>"
      ],
      "text/plain": [
       "         0         1         2         3         4         5         6   \\\n",
       "0 -0.003667 -0.102827  0.207934  0.094118  0.014799  0.164713  0.406105   \n",
       "\n",
       "         7         8         9         10        11  \n",
       "0  0.183686  0.999308  0.462102 -0.460689  0.256663  "
      ]
     },
     "execution_count": 77,
     "metadata": {},
     "output_type": "execute_result"
    }
   ],
   "source": [
    "importance_f1 = best_model.coef_\n",
    "importance_f1 = pd.DataFrame(importance_f1)\n",
    "importance_f1"
   ]
  },
  {
   "cell_type": "code",
   "execution_count": 78,
   "metadata": {},
   "outputs": [],
   "source": [
    "importance_f1_list = [-0.003667, -0.102827, 0.207934, 0.094118, 0.014799, 0.164713, 0.406105, 0.183686, 0.999308, 0.462102, -0.460689, 0.256663]"
   ]
  },
  {
   "cell_type": "code",
   "execution_count": 79,
   "metadata": {},
   "outputs": [
    {
     "data": {
      "text/plain": [
       "([0, 1, 2, 3, 4, 5, 6, 7, 8, 9, 10, 11],\n",
       " [Text(0, 0, ''),\n",
       "  Text(0, 0, ''),\n",
       "  Text(0, 0, ''),\n",
       "  Text(0, 0, ''),\n",
       "  Text(0, 0, ''),\n",
       "  Text(0, 0, ''),\n",
       "  Text(0, 0, ''),\n",
       "  Text(0, 0, ''),\n",
       "  Text(0, 0, ''),\n",
       "  Text(0, 0, ''),\n",
       "  Text(0, 0, ''),\n",
       "  Text(0, 0, '')])"
      ]
     },
     "execution_count": 79,
     "metadata": {},
     "output_type": "execute_result"
    },
    {
     "data": {
      "image/png": "[encoded data removed]",
      "text/plain": [
       "<Figure size 432x288 with 1 Axes>"
      ]
     },
     "metadata": {
      "needs_background": "light"
     },
     "output_type": "display_data"
    }
   ],
   "source": [
    "plt.bar(X_selected.columns,importance_f1_list)\n",
    "plt.xlabel('feature', fontsize=14)\n",
    "plt.ylabel('feature importance', fontsize=14)\n",
    "plt.xticks(rotation=90)"
   ]
  },
  {
   "cell_type": "markdown",
   "metadata": {},
   "source": [
    "# Testing & Discussion"
   ]
  },
  {
   "cell_type": "markdown",
   "metadata": {},
   "source": [
    "We now know C=0.1, solver='lbfgs' gives the highest F1-score. And we use these two parameter values to build model and do test."
   ]
  },
  {
   "cell_type": "markdown",
   "metadata": {},
   "source": [
    "## Check underfitting or overfitting"
   ]
  },
  {
   "cell_type": "code",
   "execution_count": 80,
   "metadata": {},
   "outputs": [],
   "source": [
    "# Compute the MSE for train set\n",
    "\n",
    "logisitic_model = LogisticRegression(C=0.1, solver='lbfgs' ,random_state=21, max_iter = 1000)\n",
    "kfold = KFold(n_splits=10)\n",
    "kfold.get_n_splits(X)\n",
    "f1_list = np.zeros(10)\n",
    "mse_train_list = np.zeros(10)\n",
    "np_idx = 0\n",
    "\n",
    "for train_idx, test_idx in kfold.split(X_train_selected):\n",
    "    X_train, X_val = X_train_selected.values[train_idx], X_train_selected.values[test_idx]\n",
    "    Y_train, Y_val = Y_train_selected.values[train_idx], Y_train_selected.values[test_idx]\n",
    "    \n",
    "\n",
    "    probability_cumulative, probability_each, predictions= OrdinalLogistic(X_train, Y_train, X_train,logisitic_model)\n",
    "\n",
    "    f1 = f1_score(Y_train,predictions, average='micro')\n",
    "    f1_list[np_idx] = f1\n",
    "    mse = mean_squared_error(Y_train, predictions)\n",
    "    mse_train_list[np_idx] = mse\n",
    "    np_idx += 1"
   ]
  },
  {
   "cell_type": "code",
   "execution_count": 81,
   "metadata": {},
   "outputs": [],
   "source": [
    "# Compute the MSE for test set\n",
    "\n",
    "logisitic_model = LogisticRegression(C=0.1, solver='lbfgs' ,random_state=21, max_iter = 1000)\n",
    "kfold = KFold(n_splits=10)\n",
    "kfold.get_n_splits(X)\n",
    "f1_list = np.zeros(10)\n",
    "mse_test_list = np.zeros(10)\n",
    "np_idx = 0\n",
    "\n",
    "for train_idx, test_idx in kfold.split(X_train_selected):\n",
    "    X_train, X_val = X_train_selected.values[train_idx], X_train_selected.values[test_idx]\n",
    "    Y_train, Y_val = Y_train_selected.values[train_idx], Y_train_selected.values[test_idx]\n",
    "    \n",
    "\n",
    "    probability_cumulative, probability_each, predictions= OrdinalLogistic(X_train, Y_train, X_test_selected,logisitic_model)\n",
    "\n",
    "    f1 = f1_score(Y_test_selected,predictions, average='micro')\n",
    "    f1_list[np_idx] = f1\n",
    "    mse = mean_squared_error(Y_test, predictions)\n",
    "    mse_test_list[np_idx] = mse\n",
    "    np_idx += 1"
   ]
  },
  {
   "cell_type": "code",
   "execution_count": 82,
   "metadata": {},
   "outputs": [
    {
     "data": {
      "image/png": "[encoded data removed]",
      "text/plain": [
       "<Figure size 432x288 with 1 Axes>"
      ]
     },
     "metadata": {
      "needs_background": "light"
     },
     "output_type": "display_data"
    }
   ],
   "source": [
    "plt.figure()\n",
    "plt.plot(mse_train_list, label='train data')\n",
    "plt.plot(mse_test_list,  label='test data')\n",
    "plt.xlabel('# of fold')\n",
    "plt.xticks(range(len(range(1,11))), range(1,11))\n",
    "plt.ylabel('MSE')\n",
    "plt.legend()\n",
    "plt.show()"
   ]
  },
  {
   "cell_type": "markdown",
   "metadata": {},
   "source": [
    "As the plot shown above, the train data set has higher MSE than the test data set. So it is overfitting.  "
   ]
  },
  {
   "cell_type": "markdown",
   "metadata": {},
   "source": [
    "## Optimal Model applied on train and test data"
   ]
  },
  {
   "cell_type": "markdown",
   "metadata": {},
   "source": [
    "### Compute the F1 score"
   ]
  },
  {
   "cell_type": "code",
   "execution_count": 83,
   "metadata": {},
   "outputs": [
    {
     "name": "stdout",
     "output_type": "stream",
     "text": [
      "0.41703248463564524\n"
     ]
    }
   ],
   "source": [
    "# Train\n",
    "logisitic_model = LogisticRegression(C=0.1, solver='lbfgs' ,random_state=21, max_iter = 1000)\n",
    "probability_cumulative, probability_each, predictions_train= OrdinalLogistic(X_train_selected, Y_train_selected, X_train_selected,logisitic_model)\n",
    "f1_train_set = f1_score(Y_train_selected,predictions_train, average='micro')\n",
    "print(f1_train_set)"
   ]
  },
  {
   "cell_type": "code",
   "execution_count": 84,
   "metadata": {},
   "outputs": [
    {
     "name": "stdout",
     "output_type": "stream",
     "text": [
      "0.40721015977058583\n"
     ]
    }
   ],
   "source": [
    "# Test\n",
    "logisitic_model = LogisticRegression(C=0.1, solver='lbfgs' ,random_state=21, max_iter = 1000)\n",
    "probability_cumulative, probability_each, predictions_test= OrdinalLogistic(X_train_selected, Y_train_selected, X_test_selected,logisitic_model)\n",
    "f1_test_set = f1_score(Y_test_selected,predictions_test, average='micro')\n",
    "print(f1_test_set)"
   ]
  },
  {
   "cell_type": "markdown",
   "metadata": {},
   "source": [
    "The train set F1 score is larger than the test set F1 score. So our model perform better on train set."
   ]
  },
  {
   "cell_type": "markdown",
   "metadata": {},
   "source": [
    "### Plot"
   ]
  },
  {
   "cell_type": "code",
   "execution_count": 85,
   "metadata": {},
   "outputs": [
    {
     "data": {
      "image/png": "[encoded data removed]",
      "text/plain": [
       "<Figure size 720x504 with 1 Axes>"
      ]
     },
     "metadata": {
      "needs_background": "light"
     },
     "output_type": "display_data"
    }
   ],
   "source": [
    "# Train\n",
    "plt.figure(figsize = (10,7))\n",
    "plt.hist(Y_train_selected, bins = 20,rwidth = 0.7, label = 'real train')\n",
    "plt.hist(predictions_train, bins = 20,rwidth = 0.7, label = 'predict')\n",
    "plt.xlabel('Q29_Encoded')\n",
    "plt.ylabel('Frequency')\n",
    "plt.title('Real train and Predict Distribution')\n",
    "plt.legend()\n",
    "plt.show()"
   ]
  },
  {
   "cell_type": "code",
   "execution_count": 86,
   "metadata": {},
   "outputs": [
    {
     "data": {
      "image/png": "[encoded data removed]",
      "text/plain": [
       "<Figure size 720x504 with 1 Axes>"
      ]
     },
     "metadata": {
      "needs_background": "light"
     },
     "output_type": "display_data"
    }
   ],
   "source": [
    "# Test\n",
    "plt.figure(figsize = (10,7))\n",
    "plt.hist(Y_test_selected, bins = 20,rwidth = 0.7, label = 'real test')\n",
    "plt.hist(predictions_test, bins = 20,rwidth = 0.7, label = 'predict')\n",
    "plt.xlabel('Q29_Encoded')\n",
    "plt.ylabel('Frequency')\n",
    "plt.title('Real test and Predict Distribution')\n",
    "plt.legend()\n",
    "plt.show()"
   ]
  },
  {
   "cell_type": "markdown",
   "metadata": {},
   "source": [
    "The plots above shows that our model used on both train data and test data leads to silimlar result. Most of the predictions are on Q29_encoded=0, 10 and 12, which means that most of people have yearly compensation $0-999, $100,000-124,999 and $150,000-199,999. And Q29_encoded=0 has the most part.\n",
    "\n",
    "Obviously, there is a bias. This may due to the imbalanced data set, which has more training data in Q29_encoded=0.\n",
    "To improve the performance, we can add 'Other' value to the other value in Q29_encoded by reasonable proportion and then train model on this new data set."
   ]
  },
  {
   "cell_type": "code",
   "execution_count": null,
   "metadata": {},
   "outputs": [],
   "source": []
  }
 ],
 "metadata": {
  "kernelspec": {
   "display_name": "Python 3 (ipykernel)",
   "language": "python",
   "name": "python3"
  },
  "language_info": {
   "codemirror_mode": {
    "name": "ipython",
    "version": 3
   },
   "file_extension": ".py",
   "mimetype": "text/x-python",
   "name": "python",
   "nbconvert_exporter": "python",
   "pygments_lexer": "ipython3",
   "version": "3.9.13"
  },
  "toc": {
   "base_numbering": 1,
   "nav_menu": {},
   "number_sections": true,
   "sideBar": true,
   "skip_h1_title": false,
   "title_cell": "Table of Contents",
   "title_sidebar": "Contents",
   "toc_cell": false,
   "toc_position": {},
   "toc_section_display": true,
   "toc_window_display": true
  },
  "varInspector": {
   "cols": {
    "lenName": 16,
    "lenType": 16,
    "lenVar": 40
   },
   "kernels_config": {
    "python": {
     "delete_cmd_postfix": "",
     "delete_cmd_prefix": "del ",
     "library": "var_list.py",
     "varRefreshCmd": "print(var_dic_list())"
    },
    "r": {
     "delete_cmd_postfix": ") ",
     "delete_cmd_prefix": "rm(",
     "library": "var_list.r",
     "varRefreshCmd": "cat(var_dic_list()) "
    }
   },
   "position": {
    "height": "403.849px",
    "left": "939.091px",
    "right": "20px",
    "top": "120px",
    "width": "350px"
   },
   "types_to_exclude": [
    "module",
    "function",
    "builtin_function_or_method",
    "instance",
    "_Feature"
   ],
   "window_display": false
  }
 },
 "nbformat": 4,
 "nbformat_minor": 4
}
